{
 "cells": [
  {
   "cell_type": "code",
   "execution_count": 269,
   "id": "1edbfe19",
   "metadata": {},
   "outputs": [],
   "source": [
    "import numpy as np\n",
    "import pandas as pd\n",
    "import matplotlib.pyplot as plt"
   ]
  },
  {
   "cell_type": "code",
   "execution_count": 270,
   "id": "cb0e81ef",
   "metadata": {
    "scrolled": true
   },
   "outputs": [
    {
     "data": {
      "text/plain": [
       "(98072, 15)"
      ]
     },
     "execution_count": 270,
     "metadata": {},
     "output_type": "execute_result"
    }
   ],
   "source": [
    "#Read training data\n",
    "df_train = pd.read_csv('train20210817v2.csv')\n",
    "df_train.shape"
   ]
  },
  {
   "cell_type": "code",
   "execution_count": null,
   "id": "cef12129",
   "metadata": {},
   "outputs": [],
   "source": [
    "df_result = "
   ]
  },
  {
   "cell_type": "code",
   "execution_count": 271,
   "id": "a75beb4d",
   "metadata": {},
   "outputs": [],
   "source": [
    "df_input1 = pd.DataFrame()  #創ㄍ空DataFrame"
   ]
  },
  {
   "cell_type": "code",
   "execution_count": 272,
   "id": "ef884c47",
   "metadata": {},
   "outputs": [],
   "source": [
    "df_input1['r1']=df_train['F_1']/24000  #縮小資料 縮自0~1之間\n",
    "df_input1['r2']=df_train['F_2']/31\n",
    "df_input1['r3']=df_train['F_3']/31\n",
    "df_input1['r4']=df_train['F_4']/31\n",
    "df_input1['r5']=df_train['F_5']/31\n",
    "df_input1['r6']=df_train['F_6']/31\n",
    "df_input1['r7']=df_train['F_7']/31\n",
    "df_input1['r8']=df_train['F_8']/31\n",
    "df_input1['r9']=df_train['F_9']/31\n",
    "df_input1['r10']=df_train['F_10']/31\n",
    "df_input1['r11']=df_train['F_11']/31\n",
    "df_input1['r12']=df_train['F_12']/31\n",
    "df_input1['r13']=df_train['F_13']/31"
   ]
  },
  {
   "cell_type": "code",
   "execution_count": 273,
   "id": "38313ec0",
   "metadata": {},
   "outputs": [],
   "source": [
    "df_output1=pd.DataFrame(df_train['O']/85)  # O"
   ]
  },
  {
   "cell_type": "code",
   "execution_count": 274,
   "id": "7213ad32",
   "metadata": {},
   "outputs": [],
   "source": [
    "import tensorflow as tf\n",
    "from tensorflow import keras\n",
    "from tensorflow.keras.models import Sequential\n",
    "from tensorflow.keras.layers import Input, Dense, Activation, Dropout"
   ]
  },
  {
   "cell_type": "code",
   "execution_count": 275,
   "id": "7353f665",
   "metadata": {},
   "outputs": [],
   "source": [
    "model1 = Sequential()\n",
    "model1.add(Dense(128, activation='relu', input_dim=13))\n",
    "model1.add(Dense(256, activation='relu'))\n",
    "model1.add(Dropout(0.2))\n",
    "model1.add(Dense(units=10, activation='relu'))\n",
    "model1.add(Dense(1))"
   ]
  },
  {
   "cell_type": "code",
   "execution_count": 292,
   "id": "b49ab9f1",
   "metadata": {},
   "outputs": [
    {
     "name": "stdout",
     "output_type": "stream",
     "text": [
      "Model: \"sequential_3\"\n",
      "_________________________________________________________________\n",
      "Layer (type)                 Output Shape              Param #   \n",
      "=================================================================\n",
      "dense_9 (Dense)              (None, 128)               1792      \n",
      "_________________________________________________________________\n",
      "dense_10 (Dense)             (None, 256)               33024     \n",
      "_________________________________________________________________\n",
      "dropout_3 (Dropout)          (None, 256)               0         \n",
      "_________________________________________________________________\n",
      "dense_11 (Dense)             (None, 10)                2570      \n",
      "_________________________________________________________________\n",
      "dense_12 (Dense)             (None, 1)                 11        \n",
      "=================================================================\n",
      "Total params: 37,397\n",
      "Trainable params: 37,397\n",
      "Non-trainable params: 0\n",
      "_________________________________________________________________\n"
     ]
    }
   ],
   "source": [
    "model1.summary()"
   ]
  },
  {
   "cell_type": "code",
   "execution_count": 276,
   "id": "2edac306",
   "metadata": {},
   "outputs": [],
   "source": [
    "model1.compile(loss='mse', optimizer='adam')"
   ]
  },
  {
   "cell_type": "code",
   "execution_count": 277,
   "id": "f2c79148",
   "metadata": {},
   "outputs": [],
   "source": [
    "X=df_input1.to_numpy()    #df_input1轉換成numpy    df_input為縮小後的數據F_1~F_13"
   ]
  },
  {
   "cell_type": "code",
   "execution_count": 278,
   "id": "34c5748d",
   "metadata": {},
   "outputs": [],
   "source": [
    "y=df_output1.to_numpy()  #df_output1轉換成numpy    df_output為縮小後的數據 O"
   ]
  },
  {
   "cell_type": "code",
   "execution_count": 279,
   "id": "73744a35",
   "metadata": {},
   "outputs": [
    {
     "name": "stdout",
     "output_type": "stream",
     "text": [
      "Epoch 1/30\n",
      "98072/98072 [==============================] - 2s 19us/sample - loss: 0.0574\n",
      "Epoch 2/30\n",
      "98072/98072 [==============================] - 1s 7us/sample - loss: 0.0246\n",
      "Epoch 3/30\n",
      "98072/98072 [==============================] - 1s 7us/sample - loss: 0.0231\n",
      "Epoch 4/30\n",
      "98072/98072 [==============================] - 1s 7us/sample - loss: 0.0216\n",
      "Epoch 5/30\n",
      "98072/98072 [==============================] - 1s 8us/sample - loss: 0.0201\n",
      "Epoch 6/30\n",
      "98072/98072 [==============================] - 1s 7us/sample - loss: 0.0186\n",
      "Epoch 7/30\n",
      "98072/98072 [==============================] - 1s 8us/sample - loss: 0.0169\n",
      "Epoch 8/30\n",
      "98072/98072 [==============================] - 1s 8us/sample - loss: 0.0154\n",
      "Epoch 9/30\n",
      "98072/98072 [==============================] - 1s 8us/sample - loss: 0.0145\n",
      "Epoch 10/30\n",
      "98072/98072 [==============================] - 1s 7us/sample - loss: 0.0135\n",
      "Epoch 11/30\n",
      "98072/98072 [==============================] - 1s 7us/sample - loss: 0.0125\n",
      "Epoch 12/30\n",
      "98072/98072 [==============================] - 1s 7us/sample - loss: 0.0116\n",
      "Epoch 13/30\n",
      "98072/98072 [==============================] - 1s 7us/sample - loss: 0.0110\n",
      "Epoch 14/30\n",
      "98072/98072 [==============================] - 1s 7us/sample - loss: 0.0107\n",
      "Epoch 15/30\n",
      "98072/98072 [==============================] - 1s 7us/sample - loss: 0.0102\n",
      "Epoch 16/30\n",
      "98072/98072 [==============================] - 1s 7us/sample - loss: 0.0098\n",
      "Epoch 17/30\n",
      "98072/98072 [==============================] - 1s 7us/sample - loss: 0.0096\n",
      "Epoch 18/30\n",
      "98072/98072 [==============================] - 1s 7us/sample - loss: 0.0093\n",
      "Epoch 19/30\n",
      "98072/98072 [==============================] - 1s 7us/sample - loss: 0.0093\n",
      "Epoch 20/30\n",
      "98072/98072 [==============================] - 1s 7us/sample - loss: 0.0086\n",
      "Epoch 21/30\n",
      "98072/98072 [==============================] - 1s 9us/sample - loss: 0.0090\n",
      "Epoch 22/30\n",
      "98072/98072 [==============================] - 1s 10us/sample - loss: 0.0082\n",
      "Epoch 23/30\n",
      "98072/98072 [==============================] - 1s 8us/sample - loss: 0.0087\n",
      "Epoch 24/30\n",
      "98072/98072 [==============================] - 1s 9us/sample - loss: 0.0081\n",
      "Epoch 25/30\n",
      "98072/98072 [==============================] - 1s 8us/sample - loss: 0.0083\n",
      "Epoch 26/30\n",
      "98072/98072 [==============================] - 1s 8us/sample - loss: 0.0078\n",
      "Epoch 27/30\n",
      "98072/98072 [==============================] - 1s 8us/sample - loss: 0.0078\n",
      "Epoch 28/30\n",
      "98072/98072 [==============================] - 1s 7us/sample - loss: 0.0077\n",
      "Epoch 29/30\n",
      "98072/98072 [==============================] - 1s 7us/sample - loss: 0.0073\n",
      "Epoch 30/30\n",
      "98072/98072 [==============================] - 1s 7us/sample - loss: 0.0075\n"
     ]
    },
    {
     "data": {
      "text/plain": [
       "<tensorflow.python.keras.callbacks.History at 0x20a943989c8>"
      ]
     },
     "execution_count": 279,
     "metadata": {},
     "output_type": "execute_result"
    }
   ],
   "source": [
    "model1.fit(X, y, epochs=30, batch_size=1024, verbose=1)"
   ]
  },
  {
   "cell_type": "code",
   "execution_count": 280,
   "id": "b6547162",
   "metadata": {},
   "outputs": [],
   "source": [
    "yhat = model1.predict(X)   #第一次預測結果  yhat"
   ]
  },
  {
   "cell_type": "code",
   "execution_count": 281,
   "id": "5bf39767",
   "metadata": {},
   "outputs": [
    {
     "data": {
      "text/plain": [
       "(98072, 1)"
      ]
     },
     "execution_count": 281,
     "metadata": {},
     "output_type": "execute_result"
    }
   ],
   "source": [
    "y.shape"
   ]
  },
  {
   "cell_type": "code",
   "execution_count": 267,
   "id": "11c11d0f",
   "metadata": {},
   "outputs": [
    {
     "data": {
      "text/plain": [
       "array([[ 0.        ],\n",
       "       [-0.00705882],\n",
       "       [ 0.00705882],\n",
       "       ...,\n",
       "       [ 0.35058824],\n",
       "       [ 0.35058824],\n",
       "       [ 0.35058824]])"
      ]
     },
     "execution_count": 267,
     "metadata": {},
     "output_type": "execute_result"
    }
   ],
   "source": [
    "y"
   ]
  },
  {
   "cell_type": "code",
   "execution_count": 199,
   "id": "53bbe04f",
   "metadata": {},
   "outputs": [],
   "source": [
    "dataset=y.reshape(-1, 1)   #reshape 轉換型態   y 為 O (numpy) 正確答案"
   ]
  },
  {
   "cell_type": "code",
   "execution_count": 268,
   "id": "d0d1b38a",
   "metadata": {},
   "outputs": [
    {
     "data": {
      "text/plain": [
       "array([[ 0.        ],\n",
       "       [-0.00705882],\n",
       "       [ 0.00705882],\n",
       "       ...,\n",
       "       [ 0.35058824],\n",
       "       [ 0.35058824],\n",
       "       [ 0.35058824]])"
      ]
     },
     "execution_count": 268,
     "metadata": {},
     "output_type": "execute_result"
    }
   ],
   "source": [
    "datase"
   ]
  },
  {
   "cell_type": "code",
   "execution_count": 200,
   "id": "888c5213",
   "metadata": {},
   "outputs": [
    {
     "data": {
      "text/plain": [
       "(98072, 1)"
      ]
     },
     "execution_count": 200,
     "metadata": {},
     "output_type": "execute_result"
    }
   ],
   "source": [
    "dataset.shape"
   ]
  },
  {
   "cell_type": "code",
   "execution_count": 201,
   "id": "7ce34299",
   "metadata": {},
   "outputs": [
    {
     "data": {
      "text/plain": [
       "array([[ 0.        ],\n",
       "       [-0.00705882],\n",
       "       [ 0.00705882]])"
      ]
     },
     "execution_count": 201,
     "metadata": {},
     "output_type": "execute_result"
    }
   ],
   "source": [
    "dataset[0:3]"
   ]
  },
  {
   "cell_type": "code",
   "execution_count": 296,
   "id": "810e52a4",
   "metadata": {},
   "outputs": [],
   "source": [
    "def create_dataset(dataset1, dataset2, look_back=1):\n",
    "    dataX, dataY = [], []\n",
    "    for i in range(len(dataset1)-look_back-1): \n",
    "        a = dataset1[i:(i+look_back), 0]   \n",
    "        dataX.append(a)                 \n",
    "        dataY.append(dataset2[i + look_back, 0])\n",
    "    return np.array(dataX), np.array(dataY) "
   ]
  },
  {
   "cell_type": "code",
   "execution_count": 297,
   "id": "006860f4",
   "metadata": {},
   "outputs": [],
   "source": [
    "dataset1 = yhat   #預測\n",
    "dataset2 = y      #答案"
   ]
  },
  {
   "cell_type": "code",
   "execution_count": 298,
   "id": "9df45a92",
   "metadata": {},
   "outputs": [],
   "source": [
    "# reshape into X=t and Y=t+1, timestep 240\n",
    "look_back = 340\n",
    "allX, allY = create_dataset(dataset1, dataset2, look_back)"
   ]
  },
  {
   "cell_type": "code",
   "execution_count": 264,
   "id": "f46ccc31",
   "metadata": {},
   "outputs": [
    {
     "data": {
      "text/plain": [
       "(97731, 340)"
      ]
     },
     "execution_count": 264,
     "metadata": {},
     "output_type": "execute_result"
    }
   ],
   "source": [
    "allX.shape"
   ]
  },
  {
   "cell_type": "code",
   "execution_count": 299,
   "id": "f65e21bc",
   "metadata": {},
   "outputs": [
    {
     "data": {
      "text/plain": [
       "(97731,)"
      ]
     },
     "execution_count": 299,
     "metadata": {},
     "output_type": "execute_result"
    }
   ],
   "source": [
    "allY.shape"
   ]
  },
  {
   "cell_type": "code",
   "execution_count": 300,
   "id": "62ab0a6d",
   "metadata": {},
   "outputs": [],
   "source": [
    "allX = np.reshape(allX, (allX.shape[0], 1, allX.shape[1]))   #轉換成三維  以致可以放入LSTM"
   ]
  },
  {
   "cell_type": "code",
   "execution_count": 301,
   "id": "388dbc14",
   "metadata": {},
   "outputs": [
    {
     "data": {
      "text/plain": [
       "array([[[0.16123542, 0.16123542, 0.15850571, ..., 0.2752894 ,\n",
       "         0.27152127, 0.27152866]],\n",
       "\n",
       "       [[0.16123542, 0.15850571, 0.15850571, ..., 0.27152127,\n",
       "         0.27152866, 0.28718755]],\n",
       "\n",
       "       [[0.15850571, 0.15850571, 0.15850571, ..., 0.27152866,\n",
       "         0.28718755, 0.28481627]],\n",
       "\n",
       "       ...,\n",
       "\n",
       "       [[0.18268007, 0.18268007, 0.18268007, ..., 0.14680408,\n",
       "         0.14680408, 0.14680408]],\n",
       "\n",
       "       [[0.18268007, 0.18268007, 0.18268007, ..., 0.14680408,\n",
       "         0.14680408, 0.14680408]],\n",
       "\n",
       "       [[0.18268007, 0.18268007, 0.18268007, ..., 0.14680408,\n",
       "         0.14680408, 0.14680408]]], dtype=float32)"
      ]
     },
     "execution_count": 301,
     "metadata": {},
     "output_type": "execute_result"
    }
   ],
   "source": [
    "allX"
   ]
  },
  {
   "cell_type": "code",
   "execution_count": 23,
   "id": "f965819a",
   "metadata": {},
   "outputs": [],
   "source": [
    "from tensorflow.keras.layers import LSTM"
   ]
  },
  {
   "cell_type": "code",
   "execution_count": 24,
   "id": "027c54f0",
   "metadata": {},
   "outputs": [],
   "source": [
    "# create and fit the LSTM network, optimizer=adam, 25 neurons, dropout 0.1\n",
    "model2 = Sequential()\n",
    "model2.add(LSTM(25, input_shape=(1, look_back)))\n",
    "model2.add(Dropout(0.1))\n",
    "model2.add(Dense(1))"
   ]
  },
  {
   "cell_type": "code",
   "execution_count": null,
   "id": "5da06397",
   "metadata": {},
   "outputs": [],
   "source": [
    "model2.compile(loss='mse', optimizer='adam')"
   ]
  },
  {
   "cell_type": "code",
   "execution_count": 293,
   "id": "6fcb9a0c",
   "metadata": {},
   "outputs": [
    {
     "name": "stdout",
     "output_type": "stream",
     "text": [
      "Model: \"sequential_1\"\n",
      "_________________________________________________________________\n",
      "Layer (type)                 Output Shape              Param #   \n",
      "=================================================================\n",
      "lstm (LSTM)                  (None, 25)                36600     \n",
      "_________________________________________________________________\n",
      "dropout_1 (Dropout)          (None, 25)                0         \n",
      "_________________________________________________________________\n",
      "dense_4 (Dense)              (None, 1)                 26        \n",
      "=================================================================\n",
      "Total params: 36,626\n",
      "Trainable params: 36,626\n",
      "Non-trainable params: 0\n",
      "_________________________________________________________________\n"
     ]
    }
   ],
   "source": [
    "model2.summary()"
   ]
  },
  {
   "cell_type": "code",
   "execution_count": 25,
   "id": "e3b9a274",
   "metadata": {
    "scrolled": true
   },
   "outputs": [
    {
     "name": "stdout",
     "output_type": "stream",
     "text": [
      "WARNING:tensorflow:From C:\\Users\\jimmy\\anaconda3\\lib\\site-packages\\tensorflow\\python\\ops\\math_grad.py:1250: add_dispatch_support.<locals>.wrapper (from tensorflow.python.ops.array_ops) is deprecated and will be removed in a future version.\n",
      "Instructions for updating:\n",
      "Use tf.where in 2.0, which has the same broadcast rule as np.where\n",
      "Epoch 1/10\n",
      "97731/97731 [==============================] - 6s 58us/sample - loss: 0.0093\n",
      "Epoch 2/10\n",
      "97731/97731 [==============================] - 5s 47us/sample - loss: 0.0054\n",
      "Epoch 3/10\n",
      "97731/97731 [==============================] - 5s 47us/sample - loss: 0.0050\n",
      "Epoch 4/10\n",
      "97731/97731 [==============================] - 4s 44us/sample - loss: 0.0048\n",
      "Epoch 5/10\n",
      "97731/97731 [==============================] - 5s 48us/sample - loss: 0.0046\n",
      "Epoch 6/10\n",
      "97731/97731 [==============================] - 4s 44us/sample - loss: 0.0043\n",
      "Epoch 7/10\n",
      "97731/97731 [==============================] - 4s 46us/sample - loss: 0.0043\n",
      "Epoch 8/10\n",
      "97731/97731 [==============================] - 5s 52us/sample - loss: 0.0044\n",
      "Epoch 9/10\n",
      "97731/97731 [==============================] - 5s 48us/sample - loss: 0.0042\n",
      "Epoch 10/10\n",
      "97731/97731 [==============================] - 5s 52us/sample - loss: 0.0041\n"
     ]
    },
    {
     "data": {
      "text/plain": [
       "<tensorflow.python.keras.callbacks.History at 0x20a91eb4fc8>"
      ]
     },
     "execution_count": 25,
     "metadata": {},
     "output_type": "execute_result"
    }
   ],
   "source": [
    "model2.fit(allX, allY, epochs=10, batch_size=240, verbose=1)"
   ]
  },
  {
   "cell_type": "code",
   "execution_count": 26,
   "id": "036cd40e",
   "metadata": {},
   "outputs": [],
   "source": [
    "allPredict= model2.predict(allX)"
   ]
  },
  {
   "cell_type": "code",
   "execution_count": 27,
   "id": "ed2cb117",
   "metadata": {},
   "outputs": [
    {
     "data": {
      "text/plain": [
       "array([[0.2298903 ],\n",
       "       [0.23263559],\n",
       "       [0.23268616],\n",
       "       ...,\n",
       "       [0.16011047],\n",
       "       [0.15925488],\n",
       "       [0.16054407]], dtype=float32)"
      ]
     },
     "execution_count": 27,
     "metadata": {},
     "output_type": "execute_result"
    }
   ],
   "source": [
    "allPredict"
   ]
  },
  {
   "cell_type": "code",
   "execution_count": 28,
   "id": "1bbe583a",
   "metadata": {},
   "outputs": [
    {
     "data": {
      "text/plain": [
       "array([[0.01072643],\n",
       "       [0.01072643],\n",
       "       [0.00980441],\n",
       "       ...,\n",
       "       [0.15274876],\n",
       "       [0.15274876],\n",
       "       [0.15274876]], dtype=float32)"
      ]
     },
     "execution_count": 28,
     "metadata": {},
     "output_type": "execute_result"
    }
   ],
   "source": [
    "yhat"
   ]
  },
  {
   "cell_type": "code",
   "execution_count": 29,
   "id": "1af5e8d3",
   "metadata": {},
   "outputs": [
    {
     "data": {
      "text/plain": [
       "(97731, 1)"
      ]
     },
     "execution_count": 29,
     "metadata": {},
     "output_type": "execute_result"
    }
   ],
   "source": [
    "allPredict.shape"
   ]
  },
  {
   "cell_type": "code",
   "execution_count": 30,
   "id": "e36a5119",
   "metadata": {},
   "outputs": [],
   "source": [
    "result = yhat*85"
   ]
  },
  {
   "cell_type": "code",
   "execution_count": 31,
   "id": "480a3265",
   "metadata": {},
   "outputs": [
    {
     "data": {
      "text/plain": [
       "(98072, 1)"
      ]
     },
     "execution_count": 31,
     "metadata": {},
     "output_type": "execute_result"
    }
   ],
   "source": [
    "result.shape"
   ]
  },
  {
   "cell_type": "code",
   "execution_count": 32,
   "id": "f51062a1",
   "metadata": {},
   "outputs": [],
   "source": [
    "result[look_back:len(yhat)-1, :] = allPredict*85"
   ]
  },
  {
   "cell_type": "code",
   "execution_count": 33,
   "id": "91a3d7ea",
   "metadata": {},
   "outputs": [],
   "source": [
    "df_Ans = pd.DataFrame()\n",
    "df_Ans[\"O\"] = df_train[\"O\"]\n",
    "df_Ans[\"O_hat\"] = result\n",
    "df_Ans[\"yhat\"] = yhat*85"
   ]
  },
  {
   "cell_type": "code",
   "execution_count": 34,
   "id": "05c31720",
   "metadata": {},
   "outputs": [
    {
     "data": {
      "text/html": [
       "<div>\n",
       "<style scoped>\n",
       "    .dataframe tbody tr th:only-of-type {\n",
       "        vertical-align: middle;\n",
       "    }\n",
       "\n",
       "    .dataframe tbody tr th {\n",
       "        vertical-align: top;\n",
       "    }\n",
       "\n",
       "    .dataframe thead th {\n",
       "        text-align: right;\n",
       "    }\n",
       "</style>\n",
       "<table border=\"1\" class=\"dataframe\">\n",
       "  <thead>\n",
       "    <tr style=\"text-align: right;\">\n",
       "      <th></th>\n",
       "      <th>O</th>\n",
       "      <th>O_hat</th>\n",
       "      <th>yhat</th>\n",
       "    </tr>\n",
       "  </thead>\n",
       "  <tbody>\n",
       "    <tr>\n",
       "      <th>0</th>\n",
       "      <td>0.0</td>\n",
       "      <td>0.911747</td>\n",
       "      <td>0.911747</td>\n",
       "    </tr>\n",
       "    <tr>\n",
       "      <th>1</th>\n",
       "      <td>-0.6</td>\n",
       "      <td>0.911747</td>\n",
       "      <td>0.911747</td>\n",
       "    </tr>\n",
       "    <tr>\n",
       "      <th>2</th>\n",
       "      <td>0.6</td>\n",
       "      <td>0.833374</td>\n",
       "      <td>0.833374</td>\n",
       "    </tr>\n",
       "    <tr>\n",
       "      <th>3</th>\n",
       "      <td>-0.6</td>\n",
       "      <td>0.833374</td>\n",
       "      <td>0.833374</td>\n",
       "    </tr>\n",
       "    <tr>\n",
       "      <th>4</th>\n",
       "      <td>-0.3</td>\n",
       "      <td>0.833374</td>\n",
       "      <td>0.833374</td>\n",
       "    </tr>\n",
       "    <tr>\n",
       "      <th>...</th>\n",
       "      <td>...</td>\n",
       "      <td>...</td>\n",
       "      <td>...</td>\n",
       "    </tr>\n",
       "    <tr>\n",
       "      <th>98067</th>\n",
       "      <td>29.8</td>\n",
       "      <td>13.686981</td>\n",
       "      <td>12.983644</td>\n",
       "    </tr>\n",
       "    <tr>\n",
       "      <th>98068</th>\n",
       "      <td>29.8</td>\n",
       "      <td>13.609390</td>\n",
       "      <td>12.983644</td>\n",
       "    </tr>\n",
       "    <tr>\n",
       "      <th>98069</th>\n",
       "      <td>29.8</td>\n",
       "      <td>13.536665</td>\n",
       "      <td>12.983644</td>\n",
       "    </tr>\n",
       "    <tr>\n",
       "      <th>98070</th>\n",
       "      <td>29.8</td>\n",
       "      <td>13.646246</td>\n",
       "      <td>12.983644</td>\n",
       "    </tr>\n",
       "    <tr>\n",
       "      <th>98071</th>\n",
       "      <td>29.8</td>\n",
       "      <td>12.983644</td>\n",
       "      <td>12.983644</td>\n",
       "    </tr>\n",
       "  </tbody>\n",
       "</table>\n",
       "<p>98072 rows × 3 columns</p>\n",
       "</div>"
      ],
      "text/plain": [
       "          O      O_hat       yhat\n",
       "0       0.0   0.911747   0.911747\n",
       "1      -0.6   0.911747   0.911747\n",
       "2       0.6   0.833374   0.833374\n",
       "3      -0.6   0.833374   0.833374\n",
       "4      -0.3   0.833374   0.833374\n",
       "...     ...        ...        ...\n",
       "98067  29.8  13.686981  12.983644\n",
       "98068  29.8  13.609390  12.983644\n",
       "98069  29.8  13.536665  12.983644\n",
       "98070  29.8  13.646246  12.983644\n",
       "98071  29.8  12.983644  12.983644\n",
       "\n",
       "[98072 rows x 3 columns]"
      ]
     },
     "execution_count": 34,
     "metadata": {},
     "output_type": "execute_result"
    }
   ],
   "source": [
    "df_Ans"
   ]
  },
  {
   "cell_type": "code",
   "execution_count": 35,
   "id": "fb342458",
   "metadata": {},
   "outputs": [],
   "source": [
    "df_Ans['error'] = abs(df_Ans[\"O\"] - df_Ans[\"O_hat\"])  #第二個模型預測出的值與正確答案得差距\n",
    "df_Ans['error2'] = abs(df_Ans[\"O\"] - df_Ans[\"yhat\"])  #正確答案 與第一個模型預測出的值的差距\n",
    "df_Ans['error3'] = abs(df_Ans[\"O_hat\"] - df_Ans[\"yhat\"]) #第一與第二個模型預測出的值的差距"
   ]
  },
  {
   "cell_type": "code",
   "execution_count": 36,
   "id": "ac314fc3",
   "metadata": {},
   "outputs": [
    {
     "data": {
      "text/html": [
       "<div>\n",
       "<style scoped>\n",
       "    .dataframe tbody tr th:only-of-type {\n",
       "        vertical-align: middle;\n",
       "    }\n",
       "\n",
       "    .dataframe tbody tr th {\n",
       "        vertical-align: top;\n",
       "    }\n",
       "\n",
       "    .dataframe thead th {\n",
       "        text-align: right;\n",
       "    }\n",
       "</style>\n",
       "<table border=\"1\" class=\"dataframe\">\n",
       "  <thead>\n",
       "    <tr style=\"text-align: right;\">\n",
       "      <th></th>\n",
       "      <th>O</th>\n",
       "      <th>O_hat</th>\n",
       "      <th>yhat</th>\n",
       "      <th>error</th>\n",
       "      <th>error2</th>\n",
       "      <th>error3</th>\n",
       "    </tr>\n",
       "  </thead>\n",
       "  <tbody>\n",
       "    <tr>\n",
       "      <th>0</th>\n",
       "      <td>0.0</td>\n",
       "      <td>0.911747</td>\n",
       "      <td>0.911747</td>\n",
       "      <td>0.911747</td>\n",
       "      <td>0.911747</td>\n",
       "      <td>0.000000</td>\n",
       "    </tr>\n",
       "    <tr>\n",
       "      <th>1</th>\n",
       "      <td>-0.6</td>\n",
       "      <td>0.911747</td>\n",
       "      <td>0.911747</td>\n",
       "      <td>1.511747</td>\n",
       "      <td>1.511747</td>\n",
       "      <td>0.000000</td>\n",
       "    </tr>\n",
       "    <tr>\n",
       "      <th>2</th>\n",
       "      <td>0.6</td>\n",
       "      <td>0.833374</td>\n",
       "      <td>0.833374</td>\n",
       "      <td>0.233374</td>\n",
       "      <td>0.233374</td>\n",
       "      <td>0.000000</td>\n",
       "    </tr>\n",
       "    <tr>\n",
       "      <th>3</th>\n",
       "      <td>-0.6</td>\n",
       "      <td>0.833374</td>\n",
       "      <td>0.833374</td>\n",
       "      <td>1.433374</td>\n",
       "      <td>1.433374</td>\n",
       "      <td>0.000000</td>\n",
       "    </tr>\n",
       "    <tr>\n",
       "      <th>4</th>\n",
       "      <td>-0.3</td>\n",
       "      <td>0.833374</td>\n",
       "      <td>0.833374</td>\n",
       "      <td>1.133374</td>\n",
       "      <td>1.133374</td>\n",
       "      <td>0.000000</td>\n",
       "    </tr>\n",
       "    <tr>\n",
       "      <th>...</th>\n",
       "      <td>...</td>\n",
       "      <td>...</td>\n",
       "      <td>...</td>\n",
       "      <td>...</td>\n",
       "      <td>...</td>\n",
       "      <td>...</td>\n",
       "    </tr>\n",
       "    <tr>\n",
       "      <th>98067</th>\n",
       "      <td>29.8</td>\n",
       "      <td>13.686981</td>\n",
       "      <td>12.983644</td>\n",
       "      <td>16.113019</td>\n",
       "      <td>16.816356</td>\n",
       "      <td>0.703337</td>\n",
       "    </tr>\n",
       "    <tr>\n",
       "      <th>98068</th>\n",
       "      <td>29.8</td>\n",
       "      <td>13.609390</td>\n",
       "      <td>12.983644</td>\n",
       "      <td>16.190610</td>\n",
       "      <td>16.816356</td>\n",
       "      <td>0.625746</td>\n",
       "    </tr>\n",
       "    <tr>\n",
       "      <th>98069</th>\n",
       "      <td>29.8</td>\n",
       "      <td>13.536665</td>\n",
       "      <td>12.983644</td>\n",
       "      <td>16.263335</td>\n",
       "      <td>16.816356</td>\n",
       "      <td>0.553020</td>\n",
       "    </tr>\n",
       "    <tr>\n",
       "      <th>98070</th>\n",
       "      <td>29.8</td>\n",
       "      <td>13.646246</td>\n",
       "      <td>12.983644</td>\n",
       "      <td>16.153754</td>\n",
       "      <td>16.816356</td>\n",
       "      <td>0.662601</td>\n",
       "    </tr>\n",
       "    <tr>\n",
       "      <th>98071</th>\n",
       "      <td>29.8</td>\n",
       "      <td>12.983644</td>\n",
       "      <td>12.983644</td>\n",
       "      <td>16.816356</td>\n",
       "      <td>16.816356</td>\n",
       "      <td>0.000000</td>\n",
       "    </tr>\n",
       "  </tbody>\n",
       "</table>\n",
       "<p>98072 rows × 6 columns</p>\n",
       "</div>"
      ],
      "text/plain": [
       "          O      O_hat       yhat      error     error2    error3\n",
       "0       0.0   0.911747   0.911747   0.911747   0.911747  0.000000\n",
       "1      -0.6   0.911747   0.911747   1.511747   1.511747  0.000000\n",
       "2       0.6   0.833374   0.833374   0.233374   0.233374  0.000000\n",
       "3      -0.6   0.833374   0.833374   1.433374   1.433374  0.000000\n",
       "4      -0.3   0.833374   0.833374   1.133374   1.133374  0.000000\n",
       "...     ...        ...        ...        ...        ...       ...\n",
       "98067  29.8  13.686981  12.983644  16.113019  16.816356  0.703337\n",
       "98068  29.8  13.609390  12.983644  16.190610  16.816356  0.625746\n",
       "98069  29.8  13.536665  12.983644  16.263335  16.816356  0.553020\n",
       "98070  29.8  13.646246  12.983644  16.153754  16.816356  0.662601\n",
       "98071  29.8  12.983644  12.983644  16.816356  16.816356  0.000000\n",
       "\n",
       "[98072 rows x 6 columns]"
      ]
     },
     "execution_count": 36,
     "metadata": {},
     "output_type": "execute_result"
    }
   ],
   "source": [
    "df_Ans"
   ]
  },
  {
   "cell_type": "code",
   "execution_count": 37,
   "id": "d4fd8491",
   "metadata": {},
   "outputs": [
    {
     "data": {
      "image/png": "[encoded data removed]",
      "text/plain": [
       "<Figure size 432x288 with 1 Axes>"
      ]
     },
     "metadata": {
      "needs_background": "light"
     },
     "output_type": "display_data"
    }
   ],
   "source": [
    "plt.plot(yhat*85)\n",
    "plt.plot(df_train['O'])   #第一個模型預測出的值與正確答案得差距 \n",
    "plt.show()"
   ]
  },
  {
   "cell_type": "code",
   "execution_count": 38,
   "id": "120bcec1",
   "metadata": {},
   "outputs": [
    {
     "data": {
      "image/png": "[encoded data removed]",
      "text/plain": [
       "<Figure size 432x288 with 1 Axes>"
      ]
     },
     "metadata": {
      "needs_background": "light"
     },
     "output_type": "display_data"
    }
   ],
   "source": [
    "plt.plot(result)\n",
    "plt.plot(yhat*85)   #第二個模型預測出的值與第一個模型預測的值得比較 \n",
    "plt.show()"
   ]
  },
  {
   "cell_type": "code",
   "execution_count": 39,
   "id": "bf88729c",
   "metadata": {},
   "outputs": [
    {
     "data": {
      "image/png": "[encoded data removed]",
      "text/plain": [
       "<Figure size 432x288 with 1 Axes>"
      ]
     },
     "metadata": {
      "needs_background": "light"
     },
     "output_type": "display_data"
    }
   ],
   "source": [
    "plt.plot(result) #第二個模型預測出的值\n",
    "plt.plot(df_train['O'])  #第二個模型預測出的值與正確答案得差距\n",
    "plt.show()"
   ]
  },
  {
   "cell_type": "code",
   "execution_count": 40,
   "id": "fb485ab5",
   "metadata": {},
   "outputs": [
    {
     "data": {
      "image/png": "[encoded data removed]",
      "text/plain": [
       "<Figure size 432x288 with 1 Axes>"
      ]
     },
     "metadata": {
      "needs_background": "light"
     },
     "output_type": "display_data"
    }
   ],
   "source": [
    "plt.plot(df_Ans['error'])   #正確答案 與第二個模型預測出的值的差距 df_Ans[\"O\"] - df_Ans[\"O_hat\"]\n",
    "plt.show()"
   ]
  },
  {
   "cell_type": "code",
   "execution_count": 41,
   "id": "cdd52e7d",
   "metadata": {},
   "outputs": [
    {
     "data": {
      "image/png": "[encoded data removed]",
      "text/plain": [
       "<Figure size 432x288 with 1 Axes>"
      ]
     },
     "metadata": {
      "needs_background": "light"
     },
     "output_type": "display_data"
    }
   ],
   "source": [
    "plt.plot(df_Ans['error2'])   #正確答案 與第一個模型預測出的值的差距 df_Ans[\"O\"] - df_Ans[\"yhat\"]\n",
    "plt.show()"
   ]
  },
  {
   "cell_type": "code",
   "execution_count": 42,
   "id": "f2a1dfc9",
   "metadata": {},
   "outputs": [
    {
     "data": {
      "image/png": "[encoded data removed]",
      "text/plain": [
       "<Figure size 432x288 with 1 Axes>"
      ]
     },
     "metadata": {
      "needs_background": "light"
     },
     "output_type": "display_data"
    }
   ],
   "source": [
    "plt.plot(df_Ans['error3'])   #第二個與第一個模型預測出的值的差距 df_Ans[\"O_hat\"] - df_Ans[\"yhat\"]\n",
    "plt.show()"
   ]
  },
  {
   "cell_type": "code",
   "execution_count": 43,
   "id": "f4e64431",
   "metadata": {},
   "outputs": [],
   "source": [
    "y=df_Ans.error.max()"
   ]
  },
  {
   "cell_type": "code",
   "execution_count": 44,
   "id": "6cafd2dc",
   "metadata": {},
   "outputs": [
    {
     "data": {
      "text/plain": [
       "66.1787109375"
      ]
     },
     "execution_count": 44,
     "metadata": {},
     "output_type": "execute_result"
    }
   ],
   "source": [
    "y"
   ]
  },
  {
   "cell_type": "code",
   "execution_count": 45,
   "id": "a45d418b",
   "metadata": {},
   "outputs": [
    {
     "data": {
      "text/plain": [
       "64.58469287870136"
      ]
     },
     "execution_count": 45,
     "metadata": {},
     "output_type": "execute_result"
    }
   ],
   "source": [
    "x=df_Ans[df_Ans.error <10].count()/98072\n",
    "A=x[0]*70\n",
    "A"
   ]
  },
  {
   "cell_type": "code",
   "execution_count": 46,
   "id": "1603f2d1",
   "metadata": {},
   "outputs": [
    {
     "data": {
      "text/plain": [
       "0"
      ]
     },
     "execution_count": 46,
     "metadata": {},
     "output_type": "execute_result"
    }
   ],
   "source": [
    "if y <=5:\n",
    "  B = 30\n",
    "elif y <=7.5:\n",
    "  B = 25\n",
    "elif y <=10:\n",
    "  B = 20\n",
    "elif y <=12.5:\n",
    "  B = 17.5\n",
    "elif y <=15:\n",
    "  B = 15\n",
    "elif y <=17.5:\n",
    "  B = 10\n",
    "elif y <=20:\n",
    "  B = 5\n",
    "elif y >20:\n",
    "  B = 0\n",
    "B"
   ]
  },
  {
   "cell_type": "code",
   "execution_count": 55,
   "id": "cc813a74",
   "metadata": {
    "scrolled": true
   },
   "outputs": [
    {
     "data": {
      "image/png": "[encoded data removed]",
      "text/plain": [
       "<Figure size 432x288 with 1 Axes>"
      ]
     },
     "metadata": {
      "needs_background": "light"
     },
     "output_type": "display_data"
    }
   ],
   "source": [
    "plt.plot(result)\n",
    "# plot the actual price, prediction in test data=red line, actual price=blue line\n",
    "plt.plot(df_train['O'])\n",
    "plt.show()"
   ]
  },
  {
   "cell_type": "code",
   "execution_count": 56,
   "id": "50c10cb2",
   "metadata": {},
   "outputs": [
    {
     "data": {
      "image/png": "[encoded data removed]",
      "text/plain": [
       "<Figure size 432x288 with 1 Axes>"
      ]
     },
     "metadata": {
      "needs_background": "light"
     },
     "output_type": "display_data"
    }
   ],
   "source": [
    "plt.plot(yhat*85)\n",
    "# plot the actual price, prediction in test data=red line, actual price=blue line\n",
    "plt.plot(df_train['O'])\n",
    "plt.show()"
   ]
  },
  {
   "cell_type": "code",
   "execution_count": 57,
   "id": "19d499a8",
   "metadata": {},
   "outputs": [],
   "source": [
    "#比賽資料-------------------"
   ]
  },
  {
   "cell_type": "code",
   "execution_count": 129,
   "id": "e959a78c",
   "metadata": {
    "scrolled": true
   },
   "outputs": [
    {
     "data": {
      "text/plain": [
       "(7222, 14)"
      ]
     },
     "execution_count": 129,
     "metadata": {},
     "output_type": "execute_result"
    }
   ],
   "source": [
    "#Read training data\n",
    "df_test = pd.read_csv('2021test0831.csv')\n",
    "df_test.shape"
   ]
  },
  {
   "cell_type": "code",
   "execution_count": 130,
   "id": "220f9760",
   "metadata": {},
   "outputs": [],
   "source": [
    "df_Test_input = pd.DataFrame()"
   ]
  },
  {
   "cell_type": "code",
   "execution_count": 131,
   "id": "0ba52086",
   "metadata": {},
   "outputs": [],
   "source": [
    "df_Test_input['r1']=df_test['F_1']/24000\n",
    "df_Test_input['r2']=df_test['F_2']/31\n",
    "df_Test_input['r3']=df_test['F_3']/31\n",
    "df_Test_input['r4']=df_test['F_4']/31\n",
    "df_Test_input['r5']=df_test['F_5']/31\n",
    "df_Test_input['r6']=df_test['F_6']/31\n",
    "df_Test_input['r7']=df_test['F_7']/31\n",
    "df_Test_input['r8']=df_test['F_8']/31\n",
    "df_Test_input['r9']=df_test['F_9']/31\n",
    "df_Test_input['r10']=df_test['F_10']/31\n",
    "df_Test_input['r11']=df_test['F_11']/31\n",
    "df_Test_input['r12']=df_test['F_12']/31\n",
    "df_Test_input['r13']=df_test['F_13']/31"
   ]
  },
  {
   "cell_type": "code",
   "execution_count": 132,
   "id": "3769215b",
   "metadata": {},
   "outputs": [],
   "source": [
    "X=df_Test_input.to_numpy()"
   ]
  },
  {
   "cell_type": "code",
   "execution_count": 133,
   "id": "5647f30f",
   "metadata": {},
   "outputs": [
    {
     "data": {
      "text/plain": [
       "array([[0.        , 0.71935484, 0.71935484, ..., 0.70967742, 0.70645161,\n",
       "        0.69677419],\n",
       "       [0.        , 0.71935484, 0.71935484, ..., 0.70967742, 0.70645161,\n",
       "        0.69677419],\n",
       "       [0.        , 0.71935484, 0.71935484, ..., 0.70967742, 0.70645161,\n",
       "        0.69677419],\n",
       "       ...,\n",
       "       [0.        , 0.73870968, 0.74193548, ..., 0.71935484, 0.72258065,\n",
       "        0.70645161],\n",
       "       [0.        , 0.73870968, 0.74193548, ..., 0.71935484, 0.71935484,\n",
       "        0.70645161],\n",
       "       [0.        , 0.73870968, 0.74193548, ..., 0.71935484, 0.71935484,\n",
       "        0.70645161]])"
      ]
     },
     "execution_count": 133,
     "metadata": {},
     "output_type": "execute_result"
    }
   ],
   "source": [
    "X"
   ]
  },
  {
   "cell_type": "code",
   "execution_count": 134,
   "id": "65c59b3e",
   "metadata": {},
   "outputs": [],
   "source": [
    "yhat = model1.predict(X)"
   ]
  },
  {
   "cell_type": "code",
   "execution_count": 135,
   "id": "db3df15a",
   "metadata": {},
   "outputs": [
    {
     "data": {
      "text/plain": [
       "(7222, 1)"
      ]
     },
     "execution_count": 135,
     "metadata": {},
     "output_type": "execute_result"
    }
   ],
   "source": [
    "yhat.shape"
   ]
  },
  {
   "cell_type": "code",
   "execution_count": 136,
   "id": "072efb22",
   "metadata": {},
   "outputs": [],
   "source": [
    "allX, allY = create_dataset(yhat, yhat, look_back)"
   ]
  },
  {
   "cell_type": "code",
   "execution_count": 294,
   "id": "fc114276",
   "metadata": {},
   "outputs": [
    {
     "data": {
      "text/plain": [
       "array([[0.09287772, 0.09287772, 0.09997375, ..., 0.2611343 , 0.25125912,\n",
       "        0.25124523],\n",
       "       [0.09287772, 0.09997375, 0.09997375, ..., 0.25125912, 0.25124523,\n",
       "        0.28220814],\n",
       "       [0.09997375, 0.09997375, 0.09997375, ..., 0.25124523, 0.28220814,\n",
       "        0.27932525],\n",
       "       ...,\n",
       "       [0.17959404, 0.17959404, 0.17959404, ..., 0.14805505, 0.14805505,\n",
       "        0.14805505],\n",
       "       [0.17959404, 0.17959404, 0.17959404, ..., 0.14805505, 0.14805505,\n",
       "        0.14805505],\n",
       "       [0.17959404, 0.17959404, 0.17959404, ..., 0.14805505, 0.14805505,\n",
       "        0.14805505]], dtype=float32)"
      ]
     },
     "execution_count": 294,
     "metadata": {},
     "output_type": "execute_result"
    }
   ],
   "source": [
    "allX"
   ]
  },
  {
   "cell_type": "code",
   "execution_count": 137,
   "id": "2003f1a9",
   "metadata": {},
   "outputs": [],
   "source": [
    "allX = np.reshape(allX, (allX.shape[0], 1, allX.shape[1]))"
   ]
  },
  {
   "cell_type": "code",
   "execution_count": 138,
   "id": "56645545",
   "metadata": {},
   "outputs": [],
   "source": [
    "allPredict= model2.predict(allX)"
   ]
  },
  {
   "cell_type": "code",
   "execution_count": 139,
   "id": "30589417",
   "metadata": {},
   "outputs": [
    {
     "data": {
      "text/plain": [
       "(6881, 1)"
      ]
     },
     "execution_count": 139,
     "metadata": {},
     "output_type": "execute_result"
    }
   ],
   "source": [
    "allPredict.shape"
   ]
  },
  {
   "cell_type": "code",
   "execution_count": 140,
   "id": "704f555c",
   "metadata": {},
   "outputs": [],
   "source": [
    "# shift test predictions for plotting\n",
    "#testPredictPlot = np.empty_like(yhat)\n",
    "#testPredictPlot[:, :] = np.nan\n",
    "#testPredictPlot[look_back:len(yhat)-1, :] = allPredict"
   ]
  },
  {
   "cell_type": "code",
   "execution_count": 141,
   "id": "0fac66e5",
   "metadata": {},
   "outputs": [],
   "source": [
    "#plt.plot(yhat*85)\n",
    "# plot the actual price, prediction in test data=red line, actual price=blue line\n",
    "#plt.plot(testPredictPlot*85)\n",
    "#plt.show()"
   ]
  },
  {
   "cell_type": "code",
   "execution_count": 142,
   "id": "164e36b9",
   "metadata": {},
   "outputs": [],
   "source": [
    "result = yhat"
   ]
  },
  {
   "cell_type": "code",
   "execution_count": 143,
   "id": "5cf0e547",
   "metadata": {},
   "outputs": [],
   "source": [
    "result[look_back:len(yhat)-1, :] = allPredict"
   ]
  },
  {
   "cell_type": "code",
   "execution_count": 144,
   "id": "995b91f3",
   "metadata": {},
   "outputs": [],
   "source": [
    "result = result*85"
   ]
  },
  {
   "cell_type": "code",
   "execution_count": 145,
   "id": "7b623949",
   "metadata": {},
   "outputs": [
    {
     "data": {
      "text/plain": [
       "(7222, 1)"
      ]
     },
     "execution_count": 145,
     "metadata": {},
     "output_type": "execute_result"
    }
   ],
   "source": [
    "result.shape"
   ]
  },
  {
   "cell_type": "code",
   "execution_count": 146,
   "id": "220d305a",
   "metadata": {},
   "outputs": [
    {
     "data": {
      "image/png": "[encoded data removed]",
      "text/plain": [
       "<Figure size 432x288 with 1 Axes>"
      ]
     },
     "metadata": {
      "needs_background": "light"
     },
     "output_type": "display_data"
    }
   ],
   "source": [
    "plt.plot(yhat*85)\n",
    "plt.show()"
   ]
  },
  {
   "cell_type": "code",
   "execution_count": 147,
   "id": "53da1c94",
   "metadata": {},
   "outputs": [
    {
     "data": {
      "image/png": "[encoded data removed]",
      "text/plain": [
       "<Figure size 432x288 with 1 Axes>"
      ]
     },
     "metadata": {
      "needs_background": "light"
     },
     "output_type": "display_data"
    }
   ],
   "source": [
    "plt.plot(yhat*85)\n",
    "plt.plot(result)\n",
    "plt.show()"
   ]
  },
  {
   "cell_type": "code",
   "execution_count": 302,
   "id": "a37491c6",
   "metadata": {},
   "outputs": [
    {
     "data": {
      "image/png": "[encoded data removed]",
      "text/plain": [
       "<Figure size 432x288 with 1 Axes>"
      ]
     },
     "metadata": {
      "needs_background": "light"
     },
     "output_type": "display_data"
    }
   ],
   "source": [
    "plt.plot(result)\n",
    "plt.show()"
   ]
  },
  {
   "cell_type": "code",
   "execution_count": 148,
   "id": "d52cde84",
   "metadata": {},
   "outputs": [
    {
     "data": {
      "text/plain": [
       "array([[6.3105836],\n",
       "       [6.3105836],\n",
       "       [6.3105836],\n",
       "       ...,\n",
       "       [8.474035 ],\n",
       "       [8.343621 ],\n",
       "       [8.243959 ]], dtype=float32)"
      ]
     },
     "execution_count": 148,
     "metadata": {},
     "output_type": "execute_result"
    }
   ],
   "source": [
    "result"
   ]
  },
  {
   "cell_type": "code",
   "execution_count": 149,
   "id": "b714151c",
   "metadata": {},
   "outputs": [],
   "source": [
    "resultDf = pd.DataFrame()"
   ]
  },
  {
   "cell_type": "code",
   "execution_count": 150,
   "id": "a587da25",
   "metadata": {},
   "outputs": [],
   "source": [
    "df_test[\"O\"] = result"
   ]
  },
  {
   "cell_type": "code",
   "execution_count": 152,
   "id": "6ebe4708",
   "metadata": {},
   "outputs": [],
   "source": [
    "resultDf = df_test"
   ]
  },
  {
   "cell_type": "code",
   "execution_count": 153,
   "id": "998a3051",
   "metadata": {},
   "outputs": [
    {
     "data": {
      "text/html": [
       "<div>\n",
       "<style scoped>\n",
       "    .dataframe tbody tr th:only-of-type {\n",
       "        vertical-align: middle;\n",
       "    }\n",
       "\n",
       "    .dataframe tbody tr th {\n",
       "        vertical-align: top;\n",
       "    }\n",
       "\n",
       "    .dataframe thead th {\n",
       "        text-align: right;\n",
       "    }\n",
       "</style>\n",
       "<table border=\"1\" class=\"dataframe\">\n",
       "  <thead>\n",
       "    <tr style=\"text-align: right;\">\n",
       "      <th></th>\n",
       "      <th>SeqNo</th>\n",
       "      <th>F_1</th>\n",
       "      <th>F_2</th>\n",
       "      <th>F_3</th>\n",
       "      <th>F_4</th>\n",
       "      <th>F_5</th>\n",
       "      <th>F_6</th>\n",
       "      <th>F_7</th>\n",
       "      <th>F_8</th>\n",
       "      <th>F_9</th>\n",
       "      <th>F_10</th>\n",
       "      <th>F_11</th>\n",
       "      <th>F_12</th>\n",
       "      <th>F_13</th>\n",
       "      <th>O</th>\n",
       "    </tr>\n",
       "  </thead>\n",
       "  <tbody>\n",
       "    <tr>\n",
       "      <th>0</th>\n",
       "      <td>1</td>\n",
       "      <td>0</td>\n",
       "      <td>22.3</td>\n",
       "      <td>22.3</td>\n",
       "      <td>22.3</td>\n",
       "      <td>22.3</td>\n",
       "      <td>22.4</td>\n",
       "      <td>22.9</td>\n",
       "      <td>22.3</td>\n",
       "      <td>22.3</td>\n",
       "      <td>23.1</td>\n",
       "      <td>22.0</td>\n",
       "      <td>21.9</td>\n",
       "      <td>21.6</td>\n",
       "      <td>6.310584</td>\n",
       "    </tr>\n",
       "    <tr>\n",
       "      <th>1</th>\n",
       "      <td>2</td>\n",
       "      <td>0</td>\n",
       "      <td>22.3</td>\n",
       "      <td>22.3</td>\n",
       "      <td>22.3</td>\n",
       "      <td>22.3</td>\n",
       "      <td>22.4</td>\n",
       "      <td>22.9</td>\n",
       "      <td>22.3</td>\n",
       "      <td>22.3</td>\n",
       "      <td>23.1</td>\n",
       "      <td>22.0</td>\n",
       "      <td>21.9</td>\n",
       "      <td>21.6</td>\n",
       "      <td>6.310584</td>\n",
       "    </tr>\n",
       "    <tr>\n",
       "      <th>2</th>\n",
       "      <td>3</td>\n",
       "      <td>0</td>\n",
       "      <td>22.3</td>\n",
       "      <td>22.3</td>\n",
       "      <td>22.3</td>\n",
       "      <td>22.3</td>\n",
       "      <td>22.4</td>\n",
       "      <td>22.9</td>\n",
       "      <td>22.3</td>\n",
       "      <td>22.3</td>\n",
       "      <td>23.1</td>\n",
       "      <td>22.0</td>\n",
       "      <td>21.9</td>\n",
       "      <td>21.6</td>\n",
       "      <td>6.310584</td>\n",
       "    </tr>\n",
       "    <tr>\n",
       "      <th>3</th>\n",
       "      <td>4</td>\n",
       "      <td>0</td>\n",
       "      <td>22.3</td>\n",
       "      <td>22.3</td>\n",
       "      <td>22.3</td>\n",
       "      <td>22.3</td>\n",
       "      <td>22.4</td>\n",
       "      <td>22.9</td>\n",
       "      <td>22.3</td>\n",
       "      <td>22.3</td>\n",
       "      <td>23.1</td>\n",
       "      <td>22.0</td>\n",
       "      <td>21.9</td>\n",
       "      <td>21.6</td>\n",
       "      <td>6.310584</td>\n",
       "    </tr>\n",
       "    <tr>\n",
       "      <th>4</th>\n",
       "      <td>5</td>\n",
       "      <td>0</td>\n",
       "      <td>22.3</td>\n",
       "      <td>22.3</td>\n",
       "      <td>22.3</td>\n",
       "      <td>22.3</td>\n",
       "      <td>22.4</td>\n",
       "      <td>22.9</td>\n",
       "      <td>22.3</td>\n",
       "      <td>22.3</td>\n",
       "      <td>23.1</td>\n",
       "      <td>22.0</td>\n",
       "      <td>21.9</td>\n",
       "      <td>21.6</td>\n",
       "      <td>6.310584</td>\n",
       "    </tr>\n",
       "    <tr>\n",
       "      <th>...</th>\n",
       "      <td>...</td>\n",
       "      <td>...</td>\n",
       "      <td>...</td>\n",
       "      <td>...</td>\n",
       "      <td>...</td>\n",
       "      <td>...</td>\n",
       "      <td>...</td>\n",
       "      <td>...</td>\n",
       "      <td>...</td>\n",
       "      <td>...</td>\n",
       "      <td>...</td>\n",
       "      <td>...</td>\n",
       "      <td>...</td>\n",
       "      <td>...</td>\n",
       "      <td>...</td>\n",
       "    </tr>\n",
       "    <tr>\n",
       "      <th>7217</th>\n",
       "      <td>7218</td>\n",
       "      <td>0</td>\n",
       "      <td>22.9</td>\n",
       "      <td>23.0</td>\n",
       "      <td>23.0</td>\n",
       "      <td>23.0</td>\n",
       "      <td>23.1</td>\n",
       "      <td>23.0</td>\n",
       "      <td>23.0</td>\n",
       "      <td>22.9</td>\n",
       "      <td>24.5</td>\n",
       "      <td>22.3</td>\n",
       "      <td>22.4</td>\n",
       "      <td>21.9</td>\n",
       "      <td>8.144277</td>\n",
       "    </tr>\n",
       "    <tr>\n",
       "      <th>7218</th>\n",
       "      <td>7219</td>\n",
       "      <td>0</td>\n",
       "      <td>22.9</td>\n",
       "      <td>23.0</td>\n",
       "      <td>23.0</td>\n",
       "      <td>23.0</td>\n",
       "      <td>23.1</td>\n",
       "      <td>23.0</td>\n",
       "      <td>23.0</td>\n",
       "      <td>22.9</td>\n",
       "      <td>24.5</td>\n",
       "      <td>22.3</td>\n",
       "      <td>22.4</td>\n",
       "      <td>21.9</td>\n",
       "      <td>7.879897</td>\n",
       "    </tr>\n",
       "    <tr>\n",
       "      <th>7219</th>\n",
       "      <td>7220</td>\n",
       "      <td>0</td>\n",
       "      <td>22.9</td>\n",
       "      <td>23.0</td>\n",
       "      <td>23.0</td>\n",
       "      <td>23.0</td>\n",
       "      <td>23.1</td>\n",
       "      <td>23.0</td>\n",
       "      <td>23.0</td>\n",
       "      <td>22.9</td>\n",
       "      <td>24.5</td>\n",
       "      <td>22.3</td>\n",
       "      <td>22.4</td>\n",
       "      <td>21.9</td>\n",
       "      <td>8.474035</td>\n",
       "    </tr>\n",
       "    <tr>\n",
       "      <th>7220</th>\n",
       "      <td>7221</td>\n",
       "      <td>0</td>\n",
       "      <td>22.9</td>\n",
       "      <td>23.0</td>\n",
       "      <td>23.0</td>\n",
       "      <td>23.0</td>\n",
       "      <td>23.1</td>\n",
       "      <td>23.0</td>\n",
       "      <td>23.0</td>\n",
       "      <td>22.9</td>\n",
       "      <td>24.5</td>\n",
       "      <td>22.3</td>\n",
       "      <td>22.3</td>\n",
       "      <td>21.9</td>\n",
       "      <td>8.343621</td>\n",
       "    </tr>\n",
       "    <tr>\n",
       "      <th>7221</th>\n",
       "      <td>7222</td>\n",
       "      <td>0</td>\n",
       "      <td>22.9</td>\n",
       "      <td>23.0</td>\n",
       "      <td>23.0</td>\n",
       "      <td>23.0</td>\n",
       "      <td>23.1</td>\n",
       "      <td>23.0</td>\n",
       "      <td>23.0</td>\n",
       "      <td>22.9</td>\n",
       "      <td>24.5</td>\n",
       "      <td>22.3</td>\n",
       "      <td>22.3</td>\n",
       "      <td>21.9</td>\n",
       "      <td>8.243959</td>\n",
       "    </tr>\n",
       "  </tbody>\n",
       "</table>\n",
       "<p>7222 rows × 15 columns</p>\n",
       "</div>"
      ],
      "text/plain": [
       "      SeqNo  F_1   F_2   F_3   F_4   F_5   F_6   F_7   F_8   F_9  F_10  F_11  \\\n",
       "0         1    0  22.3  22.3  22.3  22.3  22.4  22.9  22.3  22.3  23.1  22.0   \n",
       "1         2    0  22.3  22.3  22.3  22.3  22.4  22.9  22.3  22.3  23.1  22.0   \n",
       "2         3    0  22.3  22.3  22.3  22.3  22.4  22.9  22.3  22.3  23.1  22.0   \n",
       "3         4    0  22.3  22.3  22.3  22.3  22.4  22.9  22.3  22.3  23.1  22.0   \n",
       "4         5    0  22.3  22.3  22.3  22.3  22.4  22.9  22.3  22.3  23.1  22.0   \n",
       "...     ...  ...   ...   ...   ...   ...   ...   ...   ...   ...   ...   ...   \n",
       "7217   7218    0  22.9  23.0  23.0  23.0  23.1  23.0  23.0  22.9  24.5  22.3   \n",
       "7218   7219    0  22.9  23.0  23.0  23.0  23.1  23.0  23.0  22.9  24.5  22.3   \n",
       "7219   7220    0  22.9  23.0  23.0  23.0  23.1  23.0  23.0  22.9  24.5  22.3   \n",
       "7220   7221    0  22.9  23.0  23.0  23.0  23.1  23.0  23.0  22.9  24.5  22.3   \n",
       "7221   7222    0  22.9  23.0  23.0  23.0  23.1  23.0  23.0  22.9  24.5  22.3   \n",
       "\n",
       "      F_12  F_13         O  \n",
       "0     21.9  21.6  6.310584  \n",
       "1     21.9  21.6  6.310584  \n",
       "2     21.9  21.6  6.310584  \n",
       "3     21.9  21.6  6.310584  \n",
       "4     21.9  21.6  6.310584  \n",
       "...    ...   ...       ...  \n",
       "7217  22.4  21.9  8.144277  \n",
       "7218  22.4  21.9  7.879897  \n",
       "7219  22.4  21.9  8.474035  \n",
       "7220  22.3  21.9  8.343621  \n",
       "7221  22.3  21.9  8.243959  \n",
       "\n",
       "[7222 rows x 15 columns]"
      ]
     },
     "execution_count": 153,
     "metadata": {},
     "output_type": "execute_result"
    }
   ],
   "source": [
    "resultDf"
   ]
  },
  {
   "cell_type": "code",
   "execution_count": 154,
   "id": "92e54bca",
   "metadata": {},
   "outputs": [],
   "source": [
    "df_test.to_csv('resultDf.csv')"
   ]
  },
  {
   "cell_type": "code",
   "execution_count": null,
   "id": "00754df1",
   "metadata": {},
   "outputs": [],
   "source": []
  }
 ],
 "metadata": {
  "kernelspec": {
   "display_name": "Python 3",
   "language": "python",
   "name": "python3"
  },
  "language_info": {
   "codemirror_mode": {
    "name": "ipython",
    "version": 3
   },
   "file_extension": ".py",
   "mimetype": "text/x-python",
   "name": "python",
   "nbconvert_exporter": "python",
   "pygments_lexer": "ipython3",
   "version": "3.7.6"
  }
 },
 "nbformat": 4,
 "nbformat_minor": 5
}
