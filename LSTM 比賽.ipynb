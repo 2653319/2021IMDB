{
 "cells": [
  {
   "cell_type": "code",
   "execution_count": 625,
   "id": "00ac81a1",
   "metadata": {},
   "outputs": [],
   "source": [
    "import numpy as np\n",
    "import pandas as pd\n",
    "import matplotlib.pyplot as plt"
   ]
  },
  {
   "cell_type": "code",
   "execution_count": 626,
   "id": "6388fd79",
   "metadata": {},
   "outputs": [
    {
     "data": {
      "text/plain": [
       "(98072, 15)"
      ]
     },
     "execution_count": 626,
     "metadata": {},
     "output_type": "execute_result"
    }
   ],
   "source": [
    "#Read training data\n",
    "df_train = pd.read_csv('train20210817v2.csv')\n",
    "df_train.shape"
   ]
  },
  {
   "cell_type": "code",
   "execution_count": 627,
   "id": "73c8b38d",
   "metadata": {},
   "outputs": [
    {
     "data": {
      "text/html": [
       "<div>\n",
       "<style scoped>\n",
       "    .dataframe tbody tr th:only-of-type {\n",
       "        vertical-align: middle;\n",
       "    }\n",
       "\n",
       "    .dataframe tbody tr th {\n",
       "        vertical-align: top;\n",
       "    }\n",
       "\n",
       "    .dataframe thead th {\n",
       "        text-align: right;\n",
       "    }\n",
       "</style>\n",
       "<table border=\"1\" class=\"dataframe\">\n",
       "  <thead>\n",
       "    <tr style=\"text-align: right;\">\n",
       "      <th></th>\n",
       "      <th>SeqNo</th>\n",
       "      <th>F_1</th>\n",
       "      <th>F_2</th>\n",
       "      <th>F_3</th>\n",
       "      <th>F_4</th>\n",
       "      <th>F_5</th>\n",
       "      <th>F_6</th>\n",
       "      <th>F_7</th>\n",
       "      <th>F_8</th>\n",
       "      <th>F_9</th>\n",
       "      <th>F_10</th>\n",
       "      <th>F_11</th>\n",
       "      <th>F_12</th>\n",
       "      <th>F_13</th>\n",
       "      <th>O</th>\n",
       "    </tr>\n",
       "  </thead>\n",
       "  <tbody>\n",
       "    <tr>\n",
       "      <th>0</th>\n",
       "      <td>1</td>\n",
       "      <td>0</td>\n",
       "      <td>23.5</td>\n",
       "      <td>23.6</td>\n",
       "      <td>23.6</td>\n",
       "      <td>23.6</td>\n",
       "      <td>23.8</td>\n",
       "      <td>24.3</td>\n",
       "      <td>23.6</td>\n",
       "      <td>23.5</td>\n",
       "      <td>22.6</td>\n",
       "      <td>23.3</td>\n",
       "      <td>23.1</td>\n",
       "      <td>22.3</td>\n",
       "      <td>0.0</td>\n",
       "    </tr>\n",
       "    <tr>\n",
       "      <th>1</th>\n",
       "      <td>2</td>\n",
       "      <td>0</td>\n",
       "      <td>23.5</td>\n",
       "      <td>23.6</td>\n",
       "      <td>23.6</td>\n",
       "      <td>23.6</td>\n",
       "      <td>23.8</td>\n",
       "      <td>24.3</td>\n",
       "      <td>23.6</td>\n",
       "      <td>23.5</td>\n",
       "      <td>22.6</td>\n",
       "      <td>23.3</td>\n",
       "      <td>23.1</td>\n",
       "      <td>22.3</td>\n",
       "      <td>-0.6</td>\n",
       "    </tr>\n",
       "    <tr>\n",
       "      <th>2</th>\n",
       "      <td>3</td>\n",
       "      <td>0</td>\n",
       "      <td>23.5</td>\n",
       "      <td>23.5</td>\n",
       "      <td>23.6</td>\n",
       "      <td>23.6</td>\n",
       "      <td>23.8</td>\n",
       "      <td>24.3</td>\n",
       "      <td>23.6</td>\n",
       "      <td>23.5</td>\n",
       "      <td>22.6</td>\n",
       "      <td>23.3</td>\n",
       "      <td>23.1</td>\n",
       "      <td>22.3</td>\n",
       "      <td>0.6</td>\n",
       "    </tr>\n",
       "    <tr>\n",
       "      <th>3</th>\n",
       "      <td>4</td>\n",
       "      <td>0</td>\n",
       "      <td>23.5</td>\n",
       "      <td>23.5</td>\n",
       "      <td>23.6</td>\n",
       "      <td>23.6</td>\n",
       "      <td>23.8</td>\n",
       "      <td>24.3</td>\n",
       "      <td>23.6</td>\n",
       "      <td>23.5</td>\n",
       "      <td>22.6</td>\n",
       "      <td>23.3</td>\n",
       "      <td>23.1</td>\n",
       "      <td>22.3</td>\n",
       "      <td>-0.6</td>\n",
       "    </tr>\n",
       "    <tr>\n",
       "      <th>4</th>\n",
       "      <td>5</td>\n",
       "      <td>0</td>\n",
       "      <td>23.5</td>\n",
       "      <td>23.5</td>\n",
       "      <td>23.6</td>\n",
       "      <td>23.6</td>\n",
       "      <td>23.8</td>\n",
       "      <td>24.3</td>\n",
       "      <td>23.6</td>\n",
       "      <td>23.5</td>\n",
       "      <td>22.6</td>\n",
       "      <td>23.3</td>\n",
       "      <td>23.1</td>\n",
       "      <td>22.3</td>\n",
       "      <td>-0.3</td>\n",
       "    </tr>\n",
       "  </tbody>\n",
       "</table>\n",
       "</div>"
      ],
      "text/plain": [
       "   SeqNo  F_1   F_2   F_3   F_4   F_5   F_6   F_7   F_8   F_9  F_10  F_11  \\\n",
       "0      1    0  23.5  23.6  23.6  23.6  23.8  24.3  23.6  23.5  22.6  23.3   \n",
       "1      2    0  23.5  23.6  23.6  23.6  23.8  24.3  23.6  23.5  22.6  23.3   \n",
       "2      3    0  23.5  23.5  23.6  23.6  23.8  24.3  23.6  23.5  22.6  23.3   \n",
       "3      4    0  23.5  23.5  23.6  23.6  23.8  24.3  23.6  23.5  22.6  23.3   \n",
       "4      5    0  23.5  23.5  23.6  23.6  23.8  24.3  23.6  23.5  22.6  23.3   \n",
       "\n",
       "   F_12  F_13    O  \n",
       "0  23.1  22.3  0.0  \n",
       "1  23.1  22.3 -0.6  \n",
       "2  23.1  22.3  0.6  \n",
       "3  23.1  22.3 -0.6  \n",
       "4  23.1  22.3 -0.3  "
      ]
     },
     "execution_count": 627,
     "metadata": {},
     "output_type": "execute_result"
    }
   ],
   "source": [
    "df_train.head()   #訓練資料"
   ]
  },
  {
   "cell_type": "code",
   "execution_count": 628,
   "id": "f086c63f",
   "metadata": {},
   "outputs": [],
   "source": [
    "df2 = pd.DataFrame()   #空DATAframe"
   ]
  },
  {
   "cell_type": "code",
   "execution_count": 629,
   "id": "16d1530c",
   "metadata": {},
   "outputs": [],
   "source": [
    "df2['r1']=df_train['F_1']/24000  #將值標準化後放到df2\n",
    "df2['r2']=df_train['F_2']/31\n",
    "df2['r3']=df_train['F_3']/31\n",
    "df2['r4']=df_train['F_4']/31\n",
    "df2['r5']=df_train['F_5']/31\n",
    "df2['r6']=df_train['F_6']/31\n",
    "df2['r7']=df_train['F_7']/31\n",
    "df2['r8']=df_train['F_8']/31\n",
    "df2['r9']=df_train['F_9']/31\n",
    "df2['r10']=df_train['F_10']/31\n",
    "df2['r11']=df_train['F_11']/31\n",
    "df2['r12']=df_train['F_12']/31\n",
    "df2['r13']=df_train['F_13']/31"
   ]
  },
  {
   "cell_type": "code",
   "execution_count": 630,
   "id": "a81bdf47",
   "metadata": {},
   "outputs": [
    {
     "data": {
      "text/html": [
       "<div>\n",
       "<style scoped>\n",
       "    .dataframe tbody tr th:only-of-type {\n",
       "        vertical-align: middle;\n",
       "    }\n",
       "\n",
       "    .dataframe tbody tr th {\n",
       "        vertical-align: top;\n",
       "    }\n",
       "\n",
       "    .dataframe thead th {\n",
       "        text-align: right;\n",
       "    }\n",
       "</style>\n",
       "<table border=\"1\" class=\"dataframe\">\n",
       "  <thead>\n",
       "    <tr style=\"text-align: right;\">\n",
       "      <th></th>\n",
       "      <th>r1</th>\n",
       "      <th>r2</th>\n",
       "      <th>r3</th>\n",
       "      <th>r4</th>\n",
       "      <th>r5</th>\n",
       "      <th>r6</th>\n",
       "      <th>r7</th>\n",
       "      <th>r8</th>\n",
       "      <th>r9</th>\n",
       "      <th>r10</th>\n",
       "      <th>r11</th>\n",
       "      <th>r12</th>\n",
       "      <th>r13</th>\n",
       "    </tr>\n",
       "  </thead>\n",
       "  <tbody>\n",
       "    <tr>\n",
       "      <th>0</th>\n",
       "      <td>0.0</td>\n",
       "      <td>0.758065</td>\n",
       "      <td>0.761290</td>\n",
       "      <td>0.76129</td>\n",
       "      <td>0.76129</td>\n",
       "      <td>0.767742</td>\n",
       "      <td>0.783871</td>\n",
       "      <td>0.76129</td>\n",
       "      <td>0.758065</td>\n",
       "      <td>0.729032</td>\n",
       "      <td>0.751613</td>\n",
       "      <td>0.745161</td>\n",
       "      <td>0.719355</td>\n",
       "    </tr>\n",
       "    <tr>\n",
       "      <th>1</th>\n",
       "      <td>0.0</td>\n",
       "      <td>0.758065</td>\n",
       "      <td>0.761290</td>\n",
       "      <td>0.76129</td>\n",
       "      <td>0.76129</td>\n",
       "      <td>0.767742</td>\n",
       "      <td>0.783871</td>\n",
       "      <td>0.76129</td>\n",
       "      <td>0.758065</td>\n",
       "      <td>0.729032</td>\n",
       "      <td>0.751613</td>\n",
       "      <td>0.745161</td>\n",
       "      <td>0.719355</td>\n",
       "    </tr>\n",
       "    <tr>\n",
       "      <th>2</th>\n",
       "      <td>0.0</td>\n",
       "      <td>0.758065</td>\n",
       "      <td>0.758065</td>\n",
       "      <td>0.76129</td>\n",
       "      <td>0.76129</td>\n",
       "      <td>0.767742</td>\n",
       "      <td>0.783871</td>\n",
       "      <td>0.76129</td>\n",
       "      <td>0.758065</td>\n",
       "      <td>0.729032</td>\n",
       "      <td>0.751613</td>\n",
       "      <td>0.745161</td>\n",
       "      <td>0.719355</td>\n",
       "    </tr>\n",
       "    <tr>\n",
       "      <th>3</th>\n",
       "      <td>0.0</td>\n",
       "      <td>0.758065</td>\n",
       "      <td>0.758065</td>\n",
       "      <td>0.76129</td>\n",
       "      <td>0.76129</td>\n",
       "      <td>0.767742</td>\n",
       "      <td>0.783871</td>\n",
       "      <td>0.76129</td>\n",
       "      <td>0.758065</td>\n",
       "      <td>0.729032</td>\n",
       "      <td>0.751613</td>\n",
       "      <td>0.745161</td>\n",
       "      <td>0.719355</td>\n",
       "    </tr>\n",
       "    <tr>\n",
       "      <th>4</th>\n",
       "      <td>0.0</td>\n",
       "      <td>0.758065</td>\n",
       "      <td>0.758065</td>\n",
       "      <td>0.76129</td>\n",
       "      <td>0.76129</td>\n",
       "      <td>0.767742</td>\n",
       "      <td>0.783871</td>\n",
       "      <td>0.76129</td>\n",
       "      <td>0.758065</td>\n",
       "      <td>0.729032</td>\n",
       "      <td>0.751613</td>\n",
       "      <td>0.745161</td>\n",
       "      <td>0.719355</td>\n",
       "    </tr>\n",
       "  </tbody>\n",
       "</table>\n",
       "</div>"
      ],
      "text/plain": [
       "    r1        r2        r3       r4       r5        r6        r7       r8  \\\n",
       "0  0.0  0.758065  0.761290  0.76129  0.76129  0.767742  0.783871  0.76129   \n",
       "1  0.0  0.758065  0.761290  0.76129  0.76129  0.767742  0.783871  0.76129   \n",
       "2  0.0  0.758065  0.758065  0.76129  0.76129  0.767742  0.783871  0.76129   \n",
       "3  0.0  0.758065  0.758065  0.76129  0.76129  0.767742  0.783871  0.76129   \n",
       "4  0.0  0.758065  0.758065  0.76129  0.76129  0.767742  0.783871  0.76129   \n",
       "\n",
       "         r9       r10       r11       r12       r13  \n",
       "0  0.758065  0.729032  0.751613  0.745161  0.719355  \n",
       "1  0.758065  0.729032  0.751613  0.745161  0.719355  \n",
       "2  0.758065  0.729032  0.751613  0.745161  0.719355  \n",
       "3  0.758065  0.729032  0.751613  0.745161  0.719355  \n",
       "4  0.758065  0.729032  0.751613  0.745161  0.719355  "
      ]
     },
     "execution_count": 630,
     "metadata": {},
     "output_type": "execute_result"
    }
   ],
   "source": [
    "df2.head()"
   ]
  },
  {
   "cell_type": "code",
   "execution_count": 631,
   "id": "c2891f98",
   "metadata": {},
   "outputs": [],
   "source": [
    "dfy = pd.DataFrame(df_train['O']/85)  #將O標準化"
   ]
  },
  {
   "cell_type": "code",
   "execution_count": 632,
   "id": "61df99e9",
   "metadata": {},
   "outputs": [],
   "source": [
    "import tensorflow as tf\n",
    "from tensorflow import keras\n",
    "from tensorflow.keras.models import Sequential\n",
    "from tensorflow.keras.layers import Input, Dense, Activation, Dropout"
   ]
  },
  {
   "cell_type": "code",
   "execution_count": 633,
   "id": "d79a66a2",
   "metadata": {},
   "outputs": [],
   "source": [
    "# create and fit a Baseline Neural Network Model  模型\n",
    "model = Sequential()\n",
    "model.add(Dense(128, activation='relu', input_dim=13))\n",
    "model.add(Dense(256, activation='relu'))\n",
    "model.add(Dense(units=10, activation='relu'))\n",
    "model.add(Dense(1))"
   ]
  },
  {
   "cell_type": "code",
   "execution_count": 634,
   "id": "717a5587",
   "metadata": {},
   "outputs": [],
   "source": [
    "model.compile(loss='mse', optimizer='adam')  #訓練方式"
   ]
  },
  {
   "cell_type": "code",
   "execution_count": 635,
   "id": "e4f62d00",
   "metadata": {},
   "outputs": [],
   "source": [
    "X=df2.to_numpy()   #將df2塞到x"
   ]
  },
  {
   "cell_type": "code",
   "execution_count": 636,
   "id": "4808af59",
   "metadata": {},
   "outputs": [],
   "source": [
    "y=dfy.to_numpy()  #將dfy塞到y"
   ]
  },
  {
   "cell_type": "code",
   "execution_count": 637,
   "id": "4c21771b",
   "metadata": {},
   "outputs": [
    {
     "name": "stdout",
     "output_type": "stream",
     "text": [
      "Epoch 1/30\n",
      "98072/98072 [==============================] - 4s 40us/sample - loss: 0.0312\n",
      "Epoch 2/30\n",
      "98072/98072 [==============================] - 1s 8us/sample - loss: 0.0220\n",
      "Epoch 3/30\n",
      "98072/98072 [==============================] - 1s 8us/sample - loss: 0.0212\n",
      "Epoch 4/30\n",
      "98072/98072 [==============================] - 1s 8us/sample - loss: 0.0202\n",
      "Epoch 5/30\n",
      "98072/98072 [==============================] - 1s 8us/sample - loss: 0.0189\n",
      "Epoch 6/30\n",
      "98072/98072 [==============================] - 1s 8us/sample - loss: 0.0173\n",
      "Epoch 7/30\n",
      "98072/98072 [==============================] - 1s 8us/sample - loss: 0.0157\n",
      "Epoch 8/30\n",
      "98072/98072 [==============================] - 1s 8us/sample - loss: 0.0145\n",
      "Epoch 9/30\n",
      "98072/98072 [==============================] - 1s 8us/sample - loss: 0.0136\n",
      "Epoch 10/30\n",
      "98072/98072 [==============================] - 1s 8us/sample - loss: 0.0129\n",
      "Epoch 11/30\n",
      "98072/98072 [==============================] - 1s 8us/sample - loss: 0.0128\n",
      "Epoch 12/30\n",
      "98072/98072 [==============================] - 1s 7us/sample - loss: 0.0118\n",
      "Epoch 13/30\n",
      "98072/98072 [==============================] - 1s 7us/sample - loss: 0.0113\n",
      "Epoch 14/30\n",
      "98072/98072 [==============================] - 1s 8us/sample - loss: 0.0110\n",
      "Epoch 15/30\n",
      "98072/98072 [==============================] - 1s 7us/sample - loss: 0.0104\n",
      "Epoch 16/30\n",
      "98072/98072 [==============================] - 1s 7us/sample - loss: 0.0101\n",
      "Epoch 17/30\n",
      "98072/98072 [==============================] - 1s 7us/sample - loss: 0.0097\n",
      "Epoch 18/30\n",
      "98072/98072 [==============================] - 1s 7us/sample - loss: 0.0095\n",
      "Epoch 19/30\n",
      "98072/98072 [==============================] - ETA: 0s - loss: 0.009 - 1s 8us/sample - loss: 0.0094\n",
      "Epoch 20/30\n",
      "98072/98072 [==============================] - 1s 8us/sample - loss: 0.0089\n",
      "Epoch 21/30\n",
      "98072/98072 [==============================] - 1s 8us/sample - loss: 0.0088\n",
      "Epoch 22/30\n",
      "98072/98072 [==============================] - 1s 7us/sample - loss: 0.0090\n",
      "Epoch 23/30\n",
      "98072/98072 [==============================] - 1s 8us/sample - loss: 0.0081\n",
      "Epoch 24/30\n",
      "98072/98072 [==============================] - 1s 8us/sample - loss: 0.0080\n",
      "Epoch 25/30\n",
      "98072/98072 [==============================] - 1s 7us/sample - loss: 0.0079\n",
      "Epoch 26/30\n",
      "98072/98072 [==============================] - 1s 7us/sample - loss: 0.0081\n",
      "Epoch 27/30\n",
      "98072/98072 [==============================] - 1s 8us/sample - loss: 0.0074\n",
      "Epoch 28/30\n",
      "98072/98072 [==============================] - 1s 8us/sample - loss: 0.0078\n",
      "Epoch 29/30\n",
      "98072/98072 [==============================] - 1s 8us/sample - loss: 0.0080\n",
      "Epoch 30/30\n",
      "98072/98072 [==============================] - 1s 7us/sample - loss: 0.0070\n"
     ]
    },
    {
     "data": {
      "text/plain": [
       "<tensorflow.python.keras.callbacks.History at 0x14dab8acec8>"
      ]
     },
     "execution_count": 637,
     "metadata": {},
     "output_type": "execute_result"
    }
   ],
   "source": [
    "model.fit(X, y, epochs=30, batch_size=1024, verbose=1)  #用X、Y進行訓練"
   ]
  },
  {
   "cell_type": "code",
   "execution_count": 638,
   "id": "96432492",
   "metadata": {},
   "outputs": [],
   "source": [
    "yhat = model.predict(X)*85   #預測X   出來的值須乘上85  "
   ]
  },
  {
   "cell_type": "code",
   "execution_count": 639,
   "id": "c463adf9",
   "metadata": {},
   "outputs": [
    {
     "data": {
      "image/png": "[encoded data removed]",
      "text/plain": [
       "<Figure size 432x288 with 1 Axes>"
      ]
     },
     "metadata": {
      "needs_background": "light"
     },
     "output_type": "display_data"
    }
   ],
   "source": [
    "plt.plot(yhat)   #預測出的值的PLOT\n",
    "plt.show()"
   ]
  },
  {
   "cell_type": "code",
   "execution_count": 640,
   "id": "35c48792",
   "metadata": {},
   "outputs": [
    {
     "data": {
      "image/png": "[encoded data removed]",
      "text/plain": [
       "<Figure size 432x288 with 1 Axes>"
      ]
     },
     "metadata": {
      "needs_background": "light"
     },
     "output_type": "display_data"
    }
   ],
   "source": [
    "plt.plot(df_train[\"O\"])  #O的PLOT\n",
    "plt.show()"
   ]
  },
  {
   "cell_type": "code",
   "execution_count": 641,
   "id": "670d23b1",
   "metadata": {},
   "outputs": [],
   "source": [
    "df_train['Ohat']=pd.DataFrame(yhat) #在原始資料新增Ohat 並將yhat放入"
   ]
  },
  {
   "cell_type": "code",
   "execution_count": 643,
   "id": "050794a6",
   "metadata": {},
   "outputs": [],
   "source": [
    "df2['error']= abs(df_train[\"O\"] - df_train[\"Ohat\"])   #算出誤差值"
   ]
  },
  {
   "cell_type": "code",
   "execution_count": 647,
   "id": "bf41feb5",
   "metadata": {
    "scrolled": false
   },
   "outputs": [
    {
     "data": {
      "image/png": "[encoded data removed]",
      "text/plain": [
       "<Figure size 432x288 with 1 Axes>"
      ]
     },
     "metadata": {
      "needs_background": "light"
     },
     "output_type": "display_data"
    }
   ],
   "source": [
    "plt.plot(df2['error'])\n",
    "plt.show()"
   ]
  },
  {
   "cell_type": "code",
   "execution_count": 648,
   "id": "b7cb1320",
   "metadata": {},
   "outputs": [],
   "source": [
    "#df2 = pd.concat([df2[:240],df2])   #因LSTM會捨棄前面的部分資料  因此將前240筆資料先複製  放到前面"
   ]
  },
  {
   "cell_type": "code",
   "execution_count": 649,
   "id": "5ff1b870",
   "metadata": {},
   "outputs": [
    {
     "data": {
      "text/plain": [
       "(98312, 14)"
      ]
     },
     "execution_count": 649,
     "metadata": {},
     "output_type": "execute_result"
    }
   ],
   "source": [
    "all_y = df2['error'].values\n",
    "dataset=all_y.reshape(-1, 1)"
   ]
  },
  {
   "cell_type": "code",
   "execution_count": 654,
   "id": "f3c6e8b6",
   "metadata": {},
   "outputs": [],
   "source": [
    "def create_dataset(dataset, look_back=1):  #創建dataset給出 x 和 y \n",
    "    dataX, dataY = [], []\n",
    "    for i in range(len(dataset)-look_back-1):\n",
    "        a = dataset[i:(i+look_back), 0]\n",
    "        dataX.append(a)\n",
    "        dataY.append(dataset[i + look_back, 0])\n",
    "    return np.array(dataX), np.array(dataY)"
   ]
  },
  {
   "cell_type": "code",
   "execution_count": 655,
   "id": "ca20be8f",
   "metadata": {},
   "outputs": [],
   "source": [
    "from sklearn.preprocessing import MinMaxScaler\n",
    "from sklearn.metrics import mean_squared_error\n",
    "# normalize the dataset\n",
    "scaler = MinMaxScaler(feature_range=(0, 1))   #最大最小值標準化  把值縮放到0~1\n",
    "dataset = scaler.fit_transform(dataset)"
   ]
  },
  {
   "cell_type": "code",
   "execution_count": 763,
   "id": "47005fa4",
   "metadata": {},
   "outputs": [
    {
     "data": {
      "text/plain": [
       "array([[ 9.70576572],\n",
       "       [10.30576572],\n",
       "       [ 8.77694836],\n",
       "       ...,\n",
       "       [17.95957355],\n",
       "       [17.95957355],\n",
       "       [17.95957355]])"
      ]
     },
     "execution_count": 763,
     "metadata": {},
     "output_type": "execute_result"
    }
   ],
   "source": [
    "dataset"
   ]
  },
  {
   "cell_type": "code",
   "execution_count": 657,
   "id": "a8cd4b32",
   "metadata": {},
   "outputs": [
    {
     "data": {
      "image/png": "[encoded data removed]",
      "text/plain": [
       "<Figure size 432x288 with 1 Axes>"
      ]
     },
     "metadata": {
      "needs_background": "light"
     },
     "output_type": "display_data"
    }
   ],
   "source": [
    "plt.plot(dataset)\n",
    "plt.show()"
   ]
  },
  {
   "cell_type": "code",
   "execution_count": 658,
   "id": "2b958d89",
   "metadata": {},
   "outputs": [],
   "source": [
    "# split into train and test sets, 50% test data, 50% training data  將資料切成訓練和測試資料\n",
    "train_size = int(len(dataset) * 0.8)\n",
    "test_size = len(dataset) - train_size\n",
    "train, test = dataset[0:train_size,:], dataset[train_size:len(dataset),:]"
   ]
  },
  {
   "cell_type": "code",
   "execution_count": 659,
   "id": "55a34df7",
   "metadata": {},
   "outputs": [],
   "source": [
    "all = dataset[:,:]  #將誤差值放到all"
   ]
  },
  {
   "cell_type": "code",
   "execution_count": 662,
   "id": "8401e932",
   "metadata": {},
   "outputs": [],
   "source": [
    "# reshape into X=t and Y=t+1, timestep 240\n",
    "look_back = 240\n",
    "trainX, trainY = create_dataset(train, look_back)\n",
    "testX, testY = create_dataset(test, look_back)"
   ]
  },
  {
   "cell_type": "code",
   "execution_count": 663,
   "id": "ccca6257",
   "metadata": {},
   "outputs": [],
   "source": [
    "allX, allY = create_dataset(all, look_back)    #allX = 只有數據  allY = 只有答案   "
   ]
  },
  {
   "cell_type": "code",
   "execution_count": 774,
   "id": "9c96b5f0",
   "metadata": {},
   "outputs": [
    {
     "data": {
      "text/plain": [
       "(78649, 1)"
      ]
     },
     "execution_count": 774,
     "metadata": {},
     "output_type": "execute_result"
    }
   ],
   "source": [
    "train.shape"
   ]
  },
  {
   "cell_type": "code",
   "execution_count": 669,
   "id": "9e9b51c9",
   "metadata": {},
   "outputs": [],
   "source": [
    "# reshape input to be [samples, time steps, features]\n",
    "trainX = np.reshape(trainX, (trainX.shape[0], 1, trainX.shape[1]))\n",
    "testX = np.reshape(testX, (testX.shape[0], 1, testX.shape[1]))"
   ]
  },
  {
   "cell_type": "code",
   "execution_count": 670,
   "id": "f976dabc",
   "metadata": {},
   "outputs": [],
   "source": [
    "allX = np.reshape(allX, (allX.shape[0], 1, allX.shape[1]))"
   ]
  },
  {
   "cell_type": "code",
   "execution_count": 671,
   "id": "0f220f77",
   "metadata": {},
   "outputs": [],
   "source": [
    "from tensorflow.keras.layers import LSTM"
   ]
  },
  {
   "cell_type": "code",
   "execution_count": 672,
   "id": "54a46fd8",
   "metadata": {},
   "outputs": [],
   "source": [
    "# create and fit the LSTM network, optimizer=adam, 25 neurons, dropout 0.1\n",
    "model = Sequential()\n",
    "model.add(LSTM(25, input_shape=(1, look_back)))\n",
    "model.add(Dropout(0.1))\n",
    "model.add(Dense(1))\n",
    "model.compile(loss='mse', optimizer='adam')"
   ]
  },
  {
   "cell_type": "code",
   "execution_count": 673,
   "id": "4be44530",
   "metadata": {},
   "outputs": [
    {
     "name": "stdout",
     "output_type": "stream",
     "text": [
      "Epoch 1/10\n",
      "78409/78409 [==============================] - 8s 107us/sample - loss: 0.0021\n",
      "Epoch 2/10\n",
      "78409/78409 [==============================] - 3s 42us/sample - loss: 8.5636e-04\n",
      "Epoch 3/10\n",
      "78409/78409 [==============================] - 3s 45us/sample - loss: 6.6502e-04\n",
      "Epoch 4/10\n",
      "78409/78409 [==============================] - 3s 42us/sample - loss: 5.7782e-04\n",
      "Epoch 5/10\n",
      "78409/78409 [==============================] - 3s 39us/sample - loss: 5.3213e-04\n",
      "Epoch 6/10\n",
      "78409/78409 [==============================] - 3s 41us/sample - loss: 5.1543e-04\n",
      "Epoch 7/10\n",
      "78409/78409 [==============================] - 3s 39us/sample - loss: 4.7249e-04\n",
      "Epoch 8/10\n",
      "78409/78409 [==============================] - 4s 49us/sample - loss: 4.5443e-04\n",
      "Epoch 9/10\n",
      "78409/78409 [==============================] - 4s 45us/sample - loss: 4.3896e-04\n",
      "Epoch 10/10\n",
      "78409/78409 [==============================] - 3s 40us/sample - loss: 4.3643e-040s - los\n"
     ]
    },
    {
     "data": {
      "text/plain": [
       "<tensorflow.python.keras.callbacks.History at 0x14dc6fd4188>"
      ]
     },
     "execution_count": 673,
     "metadata": {},
     "output_type": "execute_result"
    }
   ],
   "source": [
    "model.fit(trainX, trainY, epochs=10, batch_size=240, verbose=1)"
   ]
  },
  {
   "cell_type": "code",
   "execution_count": null,
   "id": "5820aeaa",
   "metadata": {},
   "outputs": [],
   "source": [
    "model.fit(allX, allY, epochs=10, batch_size=240, verbose=1)"
   ]
  },
  {
   "cell_type": "code",
   "execution_count": 675,
   "id": "e5c55335",
   "metadata": {},
   "outputs": [],
   "source": [
    "#make predictions\n",
    "trainPredict = model.predict(trainX)\n",
    "testPredict = model.predict(testX)   #用TrainX和TrainY進行訓練了   再將訓練完的模型用來預測allX"
   ]
  },
  {
   "cell_type": "code",
   "execution_count": null,
   "id": "1d8baafb",
   "metadata": {},
   "outputs": [],
   "source": [
    "allPredict= model.predict(allX)"
   ]
  },
  {
   "cell_type": "code",
   "execution_count": 749,
   "id": "32e481a8",
   "metadata": {},
   "outputs": [],
   "source": [
    "# invert predictions \n",
    "# 將標準化的數據轉回原數據\n",
    "trainPredict = scaler.inverse_transform(trainPredict)\n",
    "trainY = scaler.inverse_transform([trainY])\n",
    "testPredict = scaler.inverse_transform(testPredict)\n",
    "testY = scaler.inverse_transform([testY])"
   ]
  },
  {
   "cell_type": "code",
   "execution_count": 719,
   "id": "68902da3",
   "metadata": {},
   "outputs": [
    {
     "ename": "ValueError",
     "evalue": "Found array with dim 3. Estimator expected <= 2.",
     "output_type": "error",
     "traceback": [
      "\u001b[1;31m---------------------------------------------------------------------------\u001b[0m",
      "\u001b[1;31mValueError\u001b[0m                                Traceback (most recent call last)",
      "\u001b[1;32m<ipython-input-719-6a9df2632664>\u001b[0m in \u001b[0;36m<module>\u001b[1;34m\u001b[0m\n\u001b[0;32m      1\u001b[0m \u001b[0mallPredict\u001b[0m \u001b[1;33m=\u001b[0m \u001b[0mscaler\u001b[0m\u001b[1;33m.\u001b[0m\u001b[0minverse_transform\u001b[0m\u001b[1;33m(\u001b[0m\u001b[0mallPredict\u001b[0m\u001b[1;33m)\u001b[0m\u001b[1;33m\u001b[0m\u001b[1;33m\u001b[0m\u001b[0m\n\u001b[1;32m----> 2\u001b[1;33m \u001b[0mallY\u001b[0m \u001b[1;33m=\u001b[0m \u001b[0mscaler\u001b[0m\u001b[1;33m.\u001b[0m\u001b[0minverse_transform\u001b[0m\u001b[1;33m(\u001b[0m\u001b[1;33m[\u001b[0m\u001b[0mallY\u001b[0m\u001b[1;33m]\u001b[0m\u001b[1;33m)\u001b[0m\u001b[1;33m\u001b[0m\u001b[1;33m\u001b[0m\u001b[0m\n\u001b[0m",
      "\u001b[1;32m~\\anaconda3\\lib\\site-packages\\sklearn\\preprocessing\\_data.py\u001b[0m in \u001b[0;36minverse_transform\u001b[1;34m(self, X)\u001b[0m\n\u001b[0;32m    457\u001b[0m \u001b[1;33m\u001b[0m\u001b[0m\n\u001b[0;32m    458\u001b[0m         X = check_array(X, copy=self.copy, dtype=FLOAT_DTYPES,\n\u001b[1;32m--> 459\u001b[1;33m                         force_all_finite=\"allow-nan\")\n\u001b[0m\u001b[0;32m    460\u001b[0m \u001b[1;33m\u001b[0m\u001b[0m\n\u001b[0;32m    461\u001b[0m         \u001b[0mX\u001b[0m \u001b[1;33m-=\u001b[0m \u001b[0mself\u001b[0m\u001b[1;33m.\u001b[0m\u001b[0mmin_\u001b[0m\u001b[1;33m\u001b[0m\u001b[1;33m\u001b[0m\u001b[0m\n",
      "\u001b[1;32m~\\anaconda3\\lib\\site-packages\\sklearn\\utils\\validation.py\u001b[0m in \u001b[0;36minner_f\u001b[1;34m(*args, **kwargs)\u001b[0m\n\u001b[0;32m     61\u001b[0m             \u001b[0mextra_args\u001b[0m \u001b[1;33m=\u001b[0m \u001b[0mlen\u001b[0m\u001b[1;33m(\u001b[0m\u001b[0margs\u001b[0m\u001b[1;33m)\u001b[0m \u001b[1;33m-\u001b[0m \u001b[0mlen\u001b[0m\u001b[1;33m(\u001b[0m\u001b[0mall_args\u001b[0m\u001b[1;33m)\u001b[0m\u001b[1;33m\u001b[0m\u001b[1;33m\u001b[0m\u001b[0m\n\u001b[0;32m     62\u001b[0m             \u001b[1;32mif\u001b[0m \u001b[0mextra_args\u001b[0m \u001b[1;33m<=\u001b[0m \u001b[1;36m0\u001b[0m\u001b[1;33m:\u001b[0m\u001b[1;33m\u001b[0m\u001b[1;33m\u001b[0m\u001b[0m\n\u001b[1;32m---> 63\u001b[1;33m                 \u001b[1;32mreturn\u001b[0m \u001b[0mf\u001b[0m\u001b[1;33m(\u001b[0m\u001b[1;33m*\u001b[0m\u001b[0margs\u001b[0m\u001b[1;33m,\u001b[0m \u001b[1;33m**\u001b[0m\u001b[0mkwargs\u001b[0m\u001b[1;33m)\u001b[0m\u001b[1;33m\u001b[0m\u001b[1;33m\u001b[0m\u001b[0m\n\u001b[0m\u001b[0;32m     64\u001b[0m \u001b[1;33m\u001b[0m\u001b[0m\n\u001b[0;32m     65\u001b[0m             \u001b[1;31m# extra_args > 0\u001b[0m\u001b[1;33m\u001b[0m\u001b[1;33m\u001b[0m\u001b[1;33m\u001b[0m\u001b[0m\n",
      "\u001b[1;32m~\\anaconda3\\lib\\site-packages\\sklearn\\utils\\validation.py\u001b[0m in \u001b[0;36mcheck_array\u001b[1;34m(array, accept_sparse, accept_large_sparse, dtype, order, copy, force_all_finite, ensure_2d, allow_nd, ensure_min_samples, ensure_min_features, estimator)\u001b[0m\n\u001b[0;32m    715\u001b[0m         \u001b[1;32mif\u001b[0m \u001b[1;32mnot\u001b[0m \u001b[0mallow_nd\u001b[0m \u001b[1;32mand\u001b[0m \u001b[0marray\u001b[0m\u001b[1;33m.\u001b[0m\u001b[0mndim\u001b[0m \u001b[1;33m>=\u001b[0m \u001b[1;36m3\u001b[0m\u001b[1;33m:\u001b[0m\u001b[1;33m\u001b[0m\u001b[1;33m\u001b[0m\u001b[0m\n\u001b[0;32m    716\u001b[0m             raise ValueError(\"Found array with dim %d. %s expected <= 2.\"\n\u001b[1;32m--> 717\u001b[1;33m                              % (array.ndim, estimator_name))\n\u001b[0m\u001b[0;32m    718\u001b[0m \u001b[1;33m\u001b[0m\u001b[0m\n\u001b[0;32m    719\u001b[0m         \u001b[1;32mif\u001b[0m \u001b[0mforce_all_finite\u001b[0m\u001b[1;33m:\u001b[0m\u001b[1;33m\u001b[0m\u001b[1;33m\u001b[0m\u001b[0m\n",
      "\u001b[1;31mValueError\u001b[0m: Found array with dim 3. Estimator expected <= 2."
     ]
    }
   ],
   "source": [
    "allPredict = scaler.inverse_transform(allPredict)  #將標準化的數據轉回原數據\n",
    "allY = scaler.inverse_transform([allY])"
   ]
  },
  {
   "cell_type": "code",
   "execution_count": 720,
   "id": "a6bc00d3",
   "metadata": {},
   "outputs": [
    {
     "name": "stdout",
     "output_type": "stream",
     "text": [
      "Train Score: 11043.79 RMSE\n",
      "Test Score: 0.41 RMSE\n"
     ]
    }
   ],
   "source": [
    "import math\n",
    "# calculate root mean squared error  誤差\n",
    "trainScore = math.sqrt(mean_squared_error(trainY[0], trainPredict[:,0]))\n",
    "print('Train Score: %.2f RMSE' % (trainScore))\n",
    "testScore = math.sqrt(mean_squared_error(testY[0], testPredict[:,0]))\n",
    "print('Test Score: %.2f RMSE' % (testScore))"
   ]
  },
  {
   "cell_type": "code",
   "execution_count": 721,
   "id": "68094448",
   "metadata": {},
   "outputs": [
    {
     "name": "stdout",
     "output_type": "stream",
     "text": [
      "Test Score: 25452.13 RMSE\n"
     ]
    }
   ],
   "source": [
    "testScore = math.sqrt(mean_squared_error(allY[0], allPredict[:,0]))\n",
    "print('Test Score: %.2f RMSE' % (testScore))"
   ]
  },
  {
   "cell_type": "code",
   "execution_count": 722,
   "id": "7d45d135",
   "metadata": {},
   "outputs": [
    {
     "data": {
      "text/plain": [
       "240"
      ]
     },
     "execution_count": 722,
     "metadata": {},
     "output_type": "execute_result"
    }
   ],
   "source": [
    "look_back"
   ]
  },
  {
   "cell_type": "code",
   "execution_count": 723,
   "id": "7016cb27",
   "metadata": {},
   "outputs": [],
   "source": [
    "# shift train predictions for plotting  # 用於繪圖的移位列車預測\n",
    "##trainPredictPlot = np.empty_like(dataset)\n",
    "#trainPredictPlot[:, :] = np.nan\n",
    "#trainPredictPlot[look_back:len(trainPredict)+look_back, :]  = trainPredict"
   ]
  },
  {
   "cell_type": "code",
   "execution_count": 724,
   "id": "3609b1b8",
   "metadata": {},
   "outputs": [],
   "source": [
    "#allPredictPlot = np.empty_like(dataset)\n",
    "#allPredictPlot[:, :] = np.nan\n",
    "#allPredictPlot[look_back:len(allPredict)+look_back, :]  = allPredict\n"
   ]
  },
  {
   "cell_type": "code",
   "execution_count": 725,
   "id": "7786f8fd",
   "metadata": {},
   "outputs": [],
   "source": [
    "# shift test predictions for plotting\n",
    "#testPredictPlot = np.empty_like(dataset)\n",
    "#testPredictPlot[:, :] = np.nan\n",
    "#testPredictPlot[len(trainPredict)+(look_back*2):len(dataset), :] = testPredict"
   ]
  },
  {
   "cell_type": "code",
   "execution_count": 726,
   "id": "d7dfc566",
   "metadata": {},
   "outputs": [],
   "source": [
    "# plot baseline and predictions\n",
    "#plt.plot(scaler.inverse_transform(dataset))\n",
    "#plt.plot(trainPredictPlot)\n",
    "#print('testPrices:')\n",
    "#testPrices=scaler.inverse_transform(dataset[test_size+look_back:])\n",
    "\n",
    "#print('testPredictions:')\n",
    "#print(testPredict)\n",
    "# plot the actual price, prediction in test data=red line, actual price=blue line\n",
    "#plt.plot(testPredictPlot)\n",
    "#plt.show()#"
   ]
  },
  {
   "cell_type": "code",
   "execution_count": 727,
   "id": "0edadaf8",
   "metadata": {},
   "outputs": [],
   "source": [
    "# plot baseline and predictions\n",
    "#plt.plot(scaler.inverse_transform(dataset))\n",
    "#plt.plot(allPredictPlot)"
   ]
  },
  {
   "cell_type": "code",
   "execution_count": 733,
   "id": "ccc35cd3",
   "metadata": {},
   "outputs": [],
   "source": [
    "#for i in range(0,240):\n",
    "#    dataset = np.delete(dataset,i,axis=0)"
   ]
  },
  {
   "cell_type": "code",
   "execution_count": 734,
   "id": "a9442989",
   "metadata": {},
   "outputs": [],
   "source": [
    "O240=scaler.inverse_transform(dataset)"
   ]
  },
  {
   "cell_type": "code",
   "execution_count": 735,
   "id": "a26b14bb",
   "metadata": {},
   "outputs": [
    {
     "data": {
      "text/plain": [
       "(97832, 1)"
      ]
     },
     "execution_count": 735,
     "metadata": {},
     "output_type": "execute_result"
    }
   ],
   "source": [
    "O240.shape"
   ]
  },
  {
   "cell_type": "code",
   "execution_count": 736,
   "id": "ef3f72b4",
   "metadata": {},
   "outputs": [
    {
     "data": {
      "text/plain": [
       "array([[ 9.97694836],\n",
       "       [ 9.97694836],\n",
       "       [ 9.85357571],\n",
       "       [10.15357571],\n",
       "       [ 9.85357571],\n",
       "       [10.15357571],\n",
       "       [10.45357571],\n",
       "       [10.15357571],\n",
       "       [10.33245354],\n",
       "       [10.15357571]])"
      ]
     },
     "execution_count": 736,
     "metadata": {},
     "output_type": "execute_result"
    }
   ],
   "source": [
    "O240[:10]"
   ]
  },
  {
   "cell_type": "code",
   "execution_count": 738,
   "id": "d949cfc4",
   "metadata": {},
   "outputs": [],
   "source": [
    "df_train['error']= abs(df_train[\"O\"] - df_train[\"Ohat2\"])"
   ]
  }
 ],
 "metadata": {
  "kernelspec": {
   "display_name": "Python 3",
   "language": "python",
   "name": "python3"
  },
  "language_info": {
   "codemirror_mode": {
    "name": "ipython",
    "version": 3
   },
   "file_extension": ".py",
   "mimetype": "text/x-python",
   "name": "python",
   "nbconvert_exporter": "python",
   "pygments_lexer": "ipython3",
   "version": "3.7.6"
  }
 },
 "nbformat": 4,
 "nbformat_minor": 5
}
